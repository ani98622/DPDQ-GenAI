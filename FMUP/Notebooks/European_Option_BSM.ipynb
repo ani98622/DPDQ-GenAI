{
 "cells": [
  {
   "cell_type": "code",
   "execution_count": 1,
   "id": "mexican-accordance",
   "metadata": {},
   "outputs": [],
   "source": [
    "import QuantLib as ql # version 1.5\n",
    "import matplotlib.pyplot as plt\n",
    "%matplotlib inline"
   ]
  },
  {
   "cell_type": "code",
   "execution_count": 2,
   "id": "collect-officer",
   "metadata": {},
   "outputs": [],
   "source": [
    "maturity_date = ql.Date(28, 12, 2022)\n",
    "spot_price = 161.0\n",
    "strike_price = 135\n",
    "volatility = 0.20\n",
    "dividend_rate =  0.0\n",
    "option_type = ql.Option.Call\n",
    "\n",
    "risk_free_rate = 0.06\n",
    "day_count = ql.Actual365Fixed()\n",
    "calendar = ql.India()\n",
    "\n",
    "calculation_date = ql.Date(11, 10, 2022)\n",
    "ql.Settings.instance().evaluationDate = calculation_date"
   ]
  },
  {
   "cell_type": "code",
   "execution_count": 3,
   "id": "downtown-flavor",
   "metadata": {},
   "outputs": [],
   "source": [
    "# construct the European Option\n",
    "payoff = ql.PlainVanillaPayoff(option_type, strike_price)\n",
    "exercise = ql.EuropeanExercise(maturity_date)\n",
    "european_option = ql.VanillaOption(payoff, exercise)"
   ]
  },
  {
   "cell_type": "code",
   "execution_count": 4,
   "id": "afraid-bloom",
   "metadata": {},
   "outputs": [],
   "source": [
    "spot_handle = ql.QuoteHandle(\n",
    "    ql.SimpleQuote(spot_price)\n",
    ")\n",
    "flat_ts = ql.YieldTermStructureHandle(\n",
    "    ql.FlatForward(calculation_date, risk_free_rate, day_count)\n",
    ")\n",
    "dividend_yield = ql.YieldTermStructureHandle(\n",
    "    ql.FlatForward(calculation_date, dividend_rate, day_count)\n",
    ")\n",
    "flat_vol_ts = ql.BlackVolTermStructureHandle(\n",
    "    ql.BlackConstantVol(calculation_date, calendar, volatility, day_count)\n",
    ")\n",
    "bsm_process = ql.BlackScholesMertonProcess(spot_handle, \n",
    "                                           dividend_yield, \n",
    "                                           flat_ts, \n",
    "                                           flat_vol_ts)"
   ]
  },
  {
   "cell_type": "code",
   "execution_count": 5,
   "id": "settled-memorial",
   "metadata": {},
   "outputs": [
    {
     "name": "stdout",
     "output_type": "stream",
     "text": [
      "The price is  27.822025974669273\n"
     ]
    }
   ],
   "source": [
    "european_option.setPricingEngine(ql.AnalyticEuropeanEngine(bsm_process))\n",
    "value = european_option.NPV()\n",
    "print(\"The price is \", value)"
   ]
  },
  {
   "cell_type": "code",
   "execution_count": 6,
   "id": "norman-electronics",
   "metadata": {},
   "outputs": [
    {
     "name": "stdout",
     "output_type": "stream",
     "text": [
      "The DELTA is  0.9816883413346181\n"
     ]
    }
   ],
   "source": [
    "value = european_option.delta()\n",
    "print(\"The DELTA is \", value)"
   ]
  },
  {
   "cell_type": "code",
   "execution_count": 7,
   "id": "earlier-sunglasses",
   "metadata": {},
   "outputs": [
    {
     "name": "stdout",
     "output_type": "stream",
     "text": [
      "The GAMMA is  0.003017784404522037\n"
     ]
    }
   ],
   "source": [
    "value = european_option.gamma()\n",
    "print(\"The GAMMA is \", value)"
   ]
  },
  {
   "cell_type": "code",
   "execution_count": 8,
   "id": "unauthorized-manual",
   "metadata": {},
   "outputs": [
    {
     "name": "stdout",
     "output_type": "stream",
     "text": [
      "The RHO is  27.829929217687482\n"
     ]
    }
   ],
   "source": [
    "value = european_option.rho()\n",
    "print(\"The RHO is \", value)"
   ]
  },
  {
   "cell_type": "code",
   "execution_count": 9,
   "id": "prepared-ordinary",
   "metadata": {},
   "outputs": [
    {
     "name": "stdout",
     "output_type": "stream",
     "text": [
      "The THETA is  -9.37826760980451\n"
     ]
    }
   ],
   "source": [
    "value = european_option.theta()\n",
    "print(\"The THETA is \", value)"
   ]
  },
  {
   "cell_type": "code",
   "execution_count": 10,
   "id": "enclosed-jesus",
   "metadata": {},
   "outputs": [
    {
     "name": "stdout",
     "output_type": "stream",
     "text": [
      "The VEGA is  3.3432718821205882\n"
     ]
    }
   ],
   "source": [
    "value = european_option.vega()\n",
    "print(\"The VEGA is \", value)"
   ]
  }
 ],
 "metadata": {
  "kernelspec": {
   "display_name": "Python 3",
   "language": "python",
   "name": "python3"
  },
  "language_info": {
   "codemirror_mode": {
    "name": "ipython",
    "version": 3
   },
   "file_extension": ".py",
   "mimetype": "text/x-python",
   "name": "python",
   "nbconvert_exporter": "python",
   "pygments_lexer": "ipython3",
   "version": "3.8.10"
  }
 },
 "nbformat": 4,
 "nbformat_minor": 5
}
