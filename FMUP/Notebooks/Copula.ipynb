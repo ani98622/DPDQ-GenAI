{
 "cells": [
  {
   "cell_type": "code",
   "execution_count": 1,
   "id": "macro-morgan",
   "metadata": {},
   "outputs": [],
   "source": [
    "import matplotlib.pyplot as plt\n",
    "import numpy as np\n",
    "from scipy import stats"
   ]
  },
  {
   "cell_type": "code",
   "execution_count": 2,
   "id": "endless-tissue",
   "metadata": {},
   "outputs": [],
   "source": [
    "def plot_bivariate_norm(rho, n):\n",
    "    x = stats.norm.rvs(size=n)\n",
    "    z = stats.norm.rvs(size=n)\n",
    "    y = rho * x  +  (1 - rho**2)**0.5 * z\n",
    "    plt.scatter(x, y)\n",
    "\n",
    "    # Axes, labels, and titles\n",
    "    plt.xlim(-4, 4)\n",
    "    plt.ylim(-4, 4)\n",
    "    plt.axes().set_aspect('equal')\n",
    "    plt.xlabel('$X$')\n",
    "    plt.ylabel('$Y$', rotation=0)\n",
    "    plt.title('Standard Bivariate Normal, Correlation '+str(rho))"
   ]
  },
  {
   "cell_type": "code",
   "execution_count": 3,
   "id": "equipped-acrylic",
   "metadata": {},
   "outputs": [
    {
     "name": "stderr",
     "output_type": "stream",
     "text": [
      "<ipython-input-2-3321eb207e5a>:10: MatplotlibDeprecationWarning: Adding an axes using the same arguments as a previous axes currently reuses the earlier instance.  In a future version, a new instance will always be created and returned.  Meanwhile, this warning can be suppressed, and the future behavior ensured, by passing a unique label to each axes instance.\n",
      "  plt.axes().set_aspect('equal')\n"
     ]
    },
    {
     "data": {
      "image/png": "[encoded data removed]",
      "text/plain": [
       "<Figure size 432x288 with 1 Axes>"
      ]
     },
     "metadata": {
      "needs_background": "light"
     },
     "output_type": "display_data"
    }
   ],
   "source": [
    "plot_bivariate_norm(0.5, 1000)"
   ]
  },
  {
   "cell_type": "code",
   "execution_count": 4,
   "id": "developed-ancient",
   "metadata": {},
   "outputs": [],
   "source": [
    "import openturns as ot\n",
    "R = ot.CorrelationMatrix(2)\n",
    "R[0,1] = 0.5\n",
    "copula = ot.NormalCopula(R)"
   ]
  },
  {
   "cell_type": "code",
   "execution_count": 5,
   "id": "related-volunteer",
   "metadata": {},
   "outputs": [
    {
     "data": {
      "text/html": [
       "<p>[[ 1   0.5 ]<br>\n",
       " [ 0.5 1   ]]</p>"
      ],
      "text/plain": [
       "class=CorrelationMatrix dimension=2 implementation=class=MatrixImplementation name=Unnamed rows=2 columns=2 values=[1,0.5,0.5,1]"
      ]
     },
     "execution_count": 5,
     "metadata": {},
     "output_type": "execute_result"
    }
   ],
   "source": [
    "R"
   ]
  },
  {
   "cell_type": "code",
   "execution_count": 10,
   "id": "muslim-anger",
   "metadata": {},
   "outputs": [],
   "source": [
    "size = 10000\n",
    "sample = copula.getSample(size)"
   ]
  },
  {
   "cell_type": "code",
   "execution_count": 11,
   "id": "sealed-bosnia",
   "metadata": {},
   "outputs": [
    {
     "data": {
      "text/html": [
       "<TABLE><TR><TD></TD><TH>X0</TH><TH>X1</TH></TR>\n",
       "<TR><TH>0</TH><TD>0.4862832</TD><TD>0.3063623</TD></TR>\n",
       "<TR><TH>1</TH><TD>0.2629147</TD><TD>0.5072897</TD></TR>\n",
       "<TR><TH>2</TH><TD>0.1511493</TD><TD>0.0476769</TD></TR>\n",
       "<TR><TD COLSPAN=\"3\">...</TD></TR>\n",
       "<TR><TH>9997</TH><TD>0.1514359</TD><TD>0.07469836</TD></TR>\n",
       "<TR><TH>9998</TH><TD>0.03363015</TD><TD>0.09335667</TD></TR>\n",
       "<TR><TH>9999</TH><TD>0.7946882</TD><TD>0.2687777</TD></TR>\n",
       "</TABLE>"
      ],
      "text/plain": [
       "class=Sample name=NormalCopula implementation=class=SampleImplementation name=NormalCopula size=10000 dimension=2 description=[X0,X1] data=[[0.486283,0.306362],[0.262915,0.50729],[0.151149,0.0476769],...,[0.151436,0.0746984],[0.0336301,0.0933567],[0.794688,0.268778]]"
      ]
     },
     "execution_count": 11,
     "metadata": {},
     "output_type": "execute_result"
    }
   ],
   "source": [
    "sample"
   ]
  },
  {
   "cell_type": "code",
   "execution_count": 12,
   "id": "forced-phone",
   "metadata": {},
   "outputs": [],
   "source": [
    "profits = []\n",
    "positive = 0\n",
    "normal1 = stats.norm(100, 10)\n",
    "pons = stats.poisson(100)\n",
    "normal2 = stats.norm(320, 5)\n",
    "for ix in range(size):\n",
    "    arn = sample[ix]\n",
    "    sales = pons.ppf(arn[0])\n",
    "    price = normal2.ppf(arn[1])\n",
    "    profit = sales*price - (10000 + 200*sales)\n",
    "    profits.append(profit)\n",
    "    if profit > 0: positive += 1"
   ]
  },
  {
   "cell_type": "code",
   "execution_count": 13,
   "id": "dirty-collar",
   "metadata": {},
   "outputs": [
    {
     "name": "stdout",
     "output_type": "stream",
     "text": [
      "The probability of not having any profit =  0.08\n"
     ]
    }
   ],
   "source": [
    "print(\"The probability of not having any profit = \", round(1 - positive/size,2))"
   ]
  },
  {
   "cell_type": "code",
   "execution_count": null,
   "id": "stretch-champion",
   "metadata": {},
   "outputs": [],
   "source": []
  }
 ],
 "metadata": {
  "kernelspec": {
   "display_name": "Python 3",
   "language": "python",
   "name": "python3"
  },
  "language_info": {
   "codemirror_mode": {
    "name": "ipython",
    "version": 3
   },
   "file_extension": ".py",
   "mimetype": "text/x-python",
   "name": "python",
   "nbconvert_exporter": "python",
   "pygments_lexer": "ipython3",
   "version": "3.8.10"
  }
 },
 "nbformat": 4,
 "nbformat_minor": 5
}
