{
 "cells": [
  {
   "cell_type": "code",
   "execution_count": 1,
   "id": "macro-morgan",
   "metadata": {},
   "outputs": [],
   "source": [
    "import matplotlib.pyplot as plt\n",
    "import numpy as np\n",
    "from scipy import stats\n",
    "import openturns as ot"
   ]
  },
  {
   "cell_type": "code",
   "execution_count": 2,
   "id": "ignored-development",
   "metadata": {},
   "outputs": [],
   "source": [
    "mean = [100, 320]\n",
    "cov = [[100, 0], [0, 25]]\n",
    "rho = -.7\n",
    "size = 5000"
   ]
  },
  {
   "cell_type": "code",
   "execution_count": 3,
   "id": "included-cooper",
   "metadata": {},
   "outputs": [],
   "source": [
    "rv = stats.multivariate_normal(mean, cov)\n",
    "rn = rv.rvs(size=size)"
   ]
  },
  {
   "cell_type": "code",
   "execution_count": 4,
   "id": "prostate-morning",
   "metadata": {},
   "outputs": [
    {
     "data": {
      "text/plain": [
       "array([[ 84.76372724, 318.61095124],\n",
       "       [ 87.87731518, 323.55738652],\n",
       "       [ 97.69107647, 324.83331509],\n",
       "       ...,\n",
       "       [ 81.29799746, 326.18123235],\n",
       "       [100.04028803, 324.86123989],\n",
       "       [ 92.31821343, 319.36564518]])"
      ]
     },
     "execution_count": 4,
     "metadata": {},
     "output_type": "execute_result"
    }
   ],
   "source": [
    "rn"
   ]
  },
  {
   "cell_type": "code",
   "execution_count": 5,
   "id": "prime-payment",
   "metadata": {},
   "outputs": [],
   "source": [
    "profits = []\n",
    "negative = 0\n",
    "for ix in range(size):\n",
    "    arn = rn[ix]\n",
    "    sales = arn[0]\n",
    "    price = arn[1]\n",
    "    profit = sales*price - (10000 + 200*sales)\n",
    "    profits.append(profit)\n",
    "    if profit <= 0: negative += 1"
   ]
  },
  {
   "cell_type": "code",
   "execution_count": 6,
   "id": "furnished-environment",
   "metadata": {},
   "outputs": [
    {
     "name": "stdout",
     "output_type": "stream",
     "text": [
      "The probability of not having any profit =  0.06\n"
     ]
    }
   ],
   "source": [
    "print(\"The probability of not having any profit = \", round(negative/size, 2))"
   ]
  },
  {
   "cell_type": "code",
   "execution_count": 7,
   "id": "foster-singing",
   "metadata": {},
   "outputs": [],
   "source": [
    "cov = [[100, rho*10*5], [rho*10*5, 25]]"
   ]
  },
  {
   "cell_type": "code",
   "execution_count": 8,
   "id": "round-editor",
   "metadata": {},
   "outputs": [],
   "source": [
    "rv = stats.multivariate_normal(mean, cov)\n",
    "rn = rv.rvs(size=size)"
   ]
  },
  {
   "cell_type": "code",
   "execution_count": 9,
   "id": "honey-illinois",
   "metadata": {},
   "outputs": [],
   "source": [
    "profits = []\n",
    "negative = 0\n",
    "for ix in range(size):\n",
    "    arn = rn[ix]\n",
    "    sales = arn[0]\n",
    "    price = arn[1]\n",
    "    profit = sales*price - (10000 + 200*sales)\n",
    "    profits.append(profit)\n",
    "    if profit <= 0: negative += 1"
   ]
  },
  {
   "cell_type": "code",
   "execution_count": 10,
   "id": "gentle-wallace",
   "metadata": {},
   "outputs": [
    {
     "name": "stdout",
     "output_type": "stream",
     "text": [
      "The probability of not having any profit =  0.02\n"
     ]
    }
   ],
   "source": [
    "print(\"The probability of not having any profit = \", round(negative/size,2))"
   ]
  },
  {
   "cell_type": "code",
   "execution_count": 11,
   "id": "developed-ancient",
   "metadata": {},
   "outputs": [],
   "source": [
    "import openturns as ot\n",
    "R = ot.CorrelationMatrix(2)\n",
    "R[0,1] = rho\n",
    "copula = ot.NormalCopula(R)"
   ]
  },
  {
   "cell_type": "code",
   "execution_count": 12,
   "id": "dense-month",
   "metadata": {},
   "outputs": [
    {
     "data": {
      "text/html": [
       "<p>[[  1   -0.7 ]<br>\n",
       " [ -0.7  1   ]]</p>"
      ],
      "text/plain": [
       "class=CorrelationMatrix dimension=2 implementation=class=MatrixImplementation name=Unnamed rows=2 columns=2 values=[1,-0.7,-0.7,1]"
      ]
     },
     "execution_count": 12,
     "metadata": {},
     "output_type": "execute_result"
    }
   ],
   "source": [
    "R"
   ]
  },
  {
   "cell_type": "code",
   "execution_count": 13,
   "id": "muslim-anger",
   "metadata": {},
   "outputs": [],
   "source": [
    "sample = copula.getSample(size)"
   ]
  },
  {
   "cell_type": "code",
   "execution_count": 14,
   "id": "charitable-tuition",
   "metadata": {},
   "outputs": [
    {
     "data": {
      "text/html": [
       "<TABLE><TR><TD></TD><TH>X0</TH><TH>X1</TH></TR>\n",
       "<TR><TH>0</TH><TD>0.7284731</TD><TD>0.09176414</TD></TR>\n",
       "<TR><TH>1</TH><TD>0.3305969</TD><TD>0.87853</TD></TR>\n",
       "<TR><TH>2</TH><TD>0.01457747</TD><TD>0.9622117</TD></TR>\n",
       "<TR><TD COLSPAN=\"3\">...</TD></TR>\n",
       "<TR><TH>4997</TH><TD>0.307936</TD><TD>0.5746932</TD></TR>\n",
       "<TR><TH>4998</TH><TD>0.701148</TD><TD>0.10288</TD></TR>\n",
       "<TR><TH>4999</TH><TD>0.7015892</TD><TD>0.6089304</TD></TR>\n",
       "</TABLE>"
      ],
      "text/plain": [
       "class=Sample name=NormalCopula implementation=class=SampleImplementation name=NormalCopula size=5000 dimension=2 description=[X0,X1] data=[[0.728473,0.0917641],[0.330597,0.87853],[0.0145775,0.962212],...,[0.307936,0.574693],[0.701148,0.10288],[0.701589,0.60893]]"
      ]
     },
     "execution_count": 14,
     "metadata": {},
     "output_type": "execute_result"
    }
   ],
   "source": [
    "sample"
   ]
  },
  {
   "cell_type": "code",
   "execution_count": 15,
   "id": "forced-phone",
   "metadata": {},
   "outputs": [],
   "source": [
    "profits = []\n",
    "negative = 0\n",
    "normal1 = stats.norm(100, 10)\n",
    "normal2 = stats.norm(320, 5)\n",
    "for ix in range(size):\n",
    "    arn = sample[ix]\n",
    "    sales = normal1.ppf(arn[0])\n",
    "    price = normal2.ppf(arn[1])\n",
    "    profit = sales*price - (10000 + 200*sales)\n",
    "    profits.append(profit)\n",
    "    if profit < 0: negative += 1"
   ]
  },
  {
   "cell_type": "code",
   "execution_count": 16,
   "id": "dirty-collar",
   "metadata": {},
   "outputs": [
    {
     "name": "stdout",
     "output_type": "stream",
     "text": [
      "The probability of not having any profit =  0.02\n"
     ]
    }
   ],
   "source": [
    "print(\"The probability of not having any profit = \", round(negative/size,2))"
   ]
  },
  {
   "cell_type": "code",
   "execution_count": null,
   "id": "automotive-albuquerque",
   "metadata": {},
   "outputs": [],
   "source": []
  }
 ],
 "metadata": {
  "kernelspec": {
   "display_name": "Python 3",
   "language": "python",
   "name": "python3"
  },
  "language_info": {
   "codemirror_mode": {
    "name": "ipython",
    "version": 3
   },
   "file_extension": ".py",
   "mimetype": "text/x-python",
   "name": "python",
   "nbconvert_exporter": "python",
   "pygments_lexer": "ipython3",
   "version": "3.8.10"
  }
 },
 "nbformat": 4,
 "nbformat_minor": 5
}
