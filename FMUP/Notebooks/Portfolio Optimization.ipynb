{
 "cells": [
  {
   "cell_type": "markdown",
   "id": "c9411583",
   "metadata": {},
   "source": [
    "## Markowitz Portfolio Optimization:\n",
    "\n",
    "#### Introduction\n",
    "\n",
    "Markowitz Portfolio Optimization, developed by Harry Markowitz in 1952, is a fundamental theory in modern finance and investment management. It provides a framework for constructing a portfolio of assets that maximizes expected return for a given level of risk, or equivalently, minimizes risk for a given level of expected return. This theory is the cornerstone of Modern Portfolio Theory (MPT).\n",
    "\n",
    "### The Basics of Portfolio Theory\n",
    "\n",
    "#### Expected Return\n",
    "\n",
    "The expected return of a portfolio is the weighted average of the expected returns of the individual assets in the portfolio. If a portfolio consists of $ n $ assets, the expected return $ E(R_p) $ is given by:\n",
    "\n",
    "$$ E(R_p) = \\sum_{i=1}^n w_i E(R_i) $$\n",
    "\n",
    "where $ w_i $ is the weight of asset $ i $ in the portfolio, and $ E(R_i) $ is the expected return of asset $ i $.\n",
    "\n",
    "#### Portfolio Variance\n",
    "\n",
    "The risk of a portfolio is measured by its variance or standard deviation. The portfolio variance $ \\sigma_p^2 $ is given by:\n",
    "\n",
    "$$ \\sigma_p^2 = \\sum_{i=1}^n \\sum_{j=1}^n w_i w_j \\sigma_{ij} $$\n",
    "\n",
    "where $ \\sigma_{ij} $ is the covariance between the returns of asset $ i $ and asset $ j $.\n",
    "\n",
    "#### Efficient Frontier\n",
    "\n",
    "The efficient frontier is a set of optimal portfolios that offer the highest expected return for a given level of risk or the lowest risk for a given level of expected return. Portfolios that lie below the efficient frontier are sub-optimal because they do not provide enough return for the level of risk they carry.\n",
    "\n",
    "### The Markowitz Optimization Problem\n",
    "\n",
    "The optimization problem can be formulated as either maximizing the expected return for a given level of risk or minimizing the risk for a given level of expected return. The mathematical formulation is:\n",
    "\n",
    "1. **Maximize Expected Return for Given Risk:**\n",
    "\n",
    "$$ \\max_{w} E(R_p) = \\sum_{i=1}^n w_i E(R_i) $$\n",
    "$$ \\text{subject to} \\quad \\sigma_p^2 = \\sum_{i=1}^n \\sum_{j=1}^n w_i w_j \\sigma_{ij} \\leq \\sigma^2 $$\n",
    "$$ \\sum_{i=1}^n w_i = 1 $$\n",
    "$$ w_i \\geq 0 \\quad \\forall i $$\n",
    "\n",
    "2. **Minimize Risk for Given Expected Return:**\n",
    "\n",
    "$$ \\min_{w} \\sigma_p^2 = \\sum_{i=1}^n \\sum_{j=1}^n w_i w_j \\sigma_{ij} $$\n",
    "$$ \\text{subject to} \\quad E(R_p) = \\sum_{i=1}^n w_i E(R_i) \\geq E(R) $$\n",
    "$$ \\sum_{i=1}^n w_i = 1 $$\n",
    "$$ w_i \\geq 0 \\quad \\forall i $$\n",
    "\n",
    "### Solution Methods\n",
    "\n",
    "#### Quadratic Programming\n",
    "\n",
    "Markowitz portfolio optimization involves solving a quadratic programming problem due to the quadratic nature of the risk (variance) function. Quadratic programming solvers, such as those available in optimization software like MATLAB, R, and Python, can be used to find the optimal weights.\n",
    "\n",
    "#### Numerical Methods\n",
    "\n",
    "In cases where analytical solutions are difficult to derive, numerical methods such as the Newton-Raphson method or gradient descent can be employed to find the optimal portfolio weights.\n",
    "\n",
    "### Practical Considerations\n",
    "\n",
    "#### Constraints\n",
    "\n",
    "In real-world applications, additional constraints may be considered, such as:\n",
    "\n",
    "- **Budget Constraints:** Ensuring that the sum of the weights equals one.\n",
    "- **Non-negativity Constraints:** Restricting short selling by ensuring all weights are non-negative.\n",
    "- **Transaction Costs:** Including costs associated with buying and selling assets.\n",
    "\n",
    "### Data Inputs\n",
    "\n",
    "Accurate estimation of expected returns, variances, and covariances is critical. Historical data is often used, but forward-looking estimates can be more relevant.\n",
    "\n",
    "### Extensions and Variations\n",
    "\n",
    "#### Mean-Variance Optimization\n",
    "\n",
    "Markowitz's original framework is often referred to as mean-variance optimization, which focuses on the trade-off between expected return (mean) and risk (variance).\n",
    "\n",
    "#### Multi-Period Models\n",
    "\n",
    "Extensions of the Markowitz model consider multi-period investment horizons, accounting for changes in investment opportunities over time.\n",
    "\n",
    "#### Robust Optimization\n",
    "\n",
    "To address estimation errors and uncertainties in input data, robust optimization techniques can be used. These techniques seek to construct portfolios that perform well under a variety of scenarios.\n",
    "\n",
    "#### Conclusion\n",
    "\n",
    "Markowitz Portfolio Optimization remains a foundational concept in finance, providing a systematic approach to portfolio construction. While the basic principles are straightforward, practical implementation requires careful consideration of various factors, including estimation of inputs, computational methods, and real-world constraints. As investment landscapes evolve, the principles of diversification and efficient frontier continue to guide investors in making informed decisions to achieve their financial goals."
   ]
  },
  {
   "cell_type": "markdown",
   "id": "549a82dc",
   "metadata": {},
   "source": [
    "Let's install yahoo finance to download historical datasets\n",
    "\n",
    "```pip install yfinance```"
   ]
  },
  {
   "cell_type": "code",
   "execution_count": 1,
   "id": "grand-colombia",
   "metadata": {},
   "outputs": [],
   "source": [
    "# Load Packages\n",
    "import math\n",
    "import numpy as np\n",
    "import pandas as pd"
   ]
  },
  {
   "cell_type": "code",
   "execution_count": 2,
   "id": "899170ea",
   "metadata": {},
   "outputs": [],
   "source": [
    "from datetime import datetime"
   ]
  },
  {
   "cell_type": "code",
   "execution_count": 3,
   "id": "74b0959f",
   "metadata": {},
   "outputs": [],
   "source": [
    "import yfinance as yf"
   ]
  },
  {
   "cell_type": "code",
   "execution_count": 4,
   "id": "0d255250",
   "metadata": {},
   "outputs": [],
   "source": [
    "import matplotlib.pyplot as plt\n",
    "%matplotlib inline"
   ]
  },
  {
   "cell_type": "code",
   "execution_count": 5,
   "id": "laden-hurricane",
   "metadata": {},
   "outputs": [
    {
     "name": "stdout",
     "output_type": "stream",
     "text": [
      "[*********************100%%**********************]  2 of 2 completed\n"
     ]
    },
    {
     "data": {
      "text/html": [
       "<div>\n",
       "<style scoped>\n",
       "    .dataframe tbody tr th:only-of-type {\n",
       "        vertical-align: middle;\n",
       "    }\n",
       "\n",
       "    .dataframe tbody tr th {\n",
       "        vertical-align: top;\n",
       "    }\n",
       "\n",
       "    .dataframe thead tr th {\n",
       "        text-align: left;\n",
       "    }\n",
       "\n",
       "    .dataframe thead tr:last-of-type th {\n",
       "        text-align: right;\n",
       "    }\n",
       "</style>\n",
       "<table border=\"1\" class=\"dataframe\">\n",
       "  <thead>\n",
       "    <tr>\n",
       "      <th></th>\n",
       "      <th colspan=\"2\" halign=\"left\">Adj Close</th>\n",
       "      <th colspan=\"2\" halign=\"left\">Close</th>\n",
       "      <th colspan=\"2\" halign=\"left\">High</th>\n",
       "      <th colspan=\"2\" halign=\"left\">Low</th>\n",
       "      <th colspan=\"2\" halign=\"left\">Open</th>\n",
       "      <th colspan=\"2\" halign=\"left\">Volume</th>\n",
       "    </tr>\n",
       "    <tr>\n",
       "      <th></th>\n",
       "      <th>GOOGL</th>\n",
       "      <th>META</th>\n",
       "      <th>GOOGL</th>\n",
       "      <th>META</th>\n",
       "      <th>GOOGL</th>\n",
       "      <th>META</th>\n",
       "      <th>GOOGL</th>\n",
       "      <th>META</th>\n",
       "      <th>GOOGL</th>\n",
       "      <th>META</th>\n",
       "      <th>GOOGL</th>\n",
       "      <th>META</th>\n",
       "    </tr>\n",
       "    <tr>\n",
       "      <th>Date</th>\n",
       "      <th></th>\n",
       "      <th></th>\n",
       "      <th></th>\n",
       "      <th></th>\n",
       "      <th></th>\n",
       "      <th></th>\n",
       "      <th></th>\n",
       "      <th></th>\n",
       "      <th></th>\n",
       "      <th></th>\n",
       "      <th></th>\n",
       "      <th></th>\n",
       "    </tr>\n",
       "  </thead>\n",
       "  <tbody>\n",
       "    <tr>\n",
       "      <th>2021-01-04</th>\n",
       "      <td>86.306503</td>\n",
       "      <td>268.654968</td>\n",
       "      <td>86.306503</td>\n",
       "      <td>268.940002</td>\n",
       "      <td>88.124496</td>\n",
       "      <td>275.000000</td>\n",
       "      <td>85.357002</td>\n",
       "      <td>265.200012</td>\n",
       "      <td>88.000000</td>\n",
       "      <td>274.779999</td>\n",
       "      <td>37324000</td>\n",
       "      <td>15106100</td>\n",
       "    </tr>\n",
       "    <tr>\n",
       "      <th>2021-01-05</th>\n",
       "      <td>87.002502</td>\n",
       "      <td>270.682800</td>\n",
       "      <td>87.002502</td>\n",
       "      <td>270.970001</td>\n",
       "      <td>87.341499</td>\n",
       "      <td>272.399994</td>\n",
       "      <td>85.845001</td>\n",
       "      <td>268.209991</td>\n",
       "      <td>86.254501</td>\n",
       "      <td>268.290009</td>\n",
       "      <td>20360000</td>\n",
       "      <td>9871600</td>\n",
       "    </tr>\n",
       "    <tr>\n",
       "      <th>2021-01-06</th>\n",
       "      <td>86.143997</td>\n",
       "      <td>263.030914</td>\n",
       "      <td>86.143997</td>\n",
       "      <td>263.309998</td>\n",
       "      <td>87.198502</td>\n",
       "      <td>267.750000</td>\n",
       "      <td>84.805000</td>\n",
       "      <td>260.010010</td>\n",
       "      <td>85.013000</td>\n",
       "      <td>262.000000</td>\n",
       "      <td>46588000</td>\n",
       "      <td>24354100</td>\n",
       "    </tr>\n",
       "    <tr>\n",
       "      <th>2021-01-07</th>\n",
       "      <td>88.717003</td>\n",
       "      <td>268.455170</td>\n",
       "      <td>88.717003</td>\n",
       "      <td>268.739990</td>\n",
       "      <td>88.890999</td>\n",
       "      <td>271.609985</td>\n",
       "      <td>86.337997</td>\n",
       "      <td>264.779999</td>\n",
       "      <td>86.337997</td>\n",
       "      <td>265.899994</td>\n",
       "      <td>41936000</td>\n",
       "      <td>15789800</td>\n",
       "    </tr>\n",
       "    <tr>\n",
       "      <th>2021-01-08</th>\n",
       "      <td>89.891502</td>\n",
       "      <td>267.286407</td>\n",
       "      <td>89.891502</td>\n",
       "      <td>267.570007</td>\n",
       "      <td>89.968002</td>\n",
       "      <td>268.950012</td>\n",
       "      <td>88.060997</td>\n",
       "      <td>263.179993</td>\n",
       "      <td>88.858002</td>\n",
       "      <td>268.309998</td>\n",
       "      <td>35484000</td>\n",
       "      <td>18528300</td>\n",
       "    </tr>\n",
       "  </tbody>\n",
       "</table>\n",
       "</div>"
      ],
      "text/plain": [
       "            Adj Close                  Close                   High  \\\n",
       "                GOOGL        META      GOOGL        META      GOOGL   \n",
       "Date                                                                  \n",
       "2021-01-04  86.306503  268.654968  86.306503  268.940002  88.124496   \n",
       "2021-01-05  87.002502  270.682800  87.002502  270.970001  87.341499   \n",
       "2021-01-06  86.143997  263.030914  86.143997  263.309998  87.198502   \n",
       "2021-01-07  88.717003  268.455170  88.717003  268.739990  88.890999   \n",
       "2021-01-08  89.891502  267.286407  89.891502  267.570007  89.968002   \n",
       "\n",
       "                              Low                   Open              \\\n",
       "                  META      GOOGL        META      GOOGL        META   \n",
       "Date                                                                   \n",
       "2021-01-04  275.000000  85.357002  265.200012  88.000000  274.779999   \n",
       "2021-01-05  272.399994  85.845001  268.209991  86.254501  268.290009   \n",
       "2021-01-06  267.750000  84.805000  260.010010  85.013000  262.000000   \n",
       "2021-01-07  271.609985  86.337997  264.779999  86.337997  265.899994   \n",
       "2021-01-08  268.950012  88.060997  263.179993  88.858002  268.309998   \n",
       "\n",
       "              Volume            \n",
       "               GOOGL      META  \n",
       "Date                            \n",
       "2021-01-04  37324000  15106100  \n",
       "2021-01-05  20360000   9871600  \n",
       "2021-01-06  46588000  24354100  \n",
       "2021-01-07  41936000  15789800  \n",
       "2021-01-08  35484000  18528300  "
      ]
     },
     "execution_count": 5,
     "metadata": {},
     "output_type": "execute_result"
    }
   ],
   "source": [
    "# Read Data\n",
    "startdt = datetime(2021, 1, 1)\n",
    "enddt = datetime(2021, 12, 31)\n",
    "\n",
    "test = yf.download(['META', 'GOOGL'], start=startdt, end=enddt)\n",
    "test.head()"
   ]
  },
  {
   "cell_type": "code",
   "execution_count": 6,
   "id": "accompanied-peter",
   "metadata": {},
   "outputs": [
    {
     "data": {
      "text/plain": [
       "(251, 2)"
      ]
     },
     "execution_count": 6,
     "metadata": {},
     "output_type": "execute_result"
    }
   ],
   "source": [
    "# Closing price\n",
    "test = test['Adj Close']\n",
    "test.shape"
   ]
  },
  {
   "cell_type": "code",
   "execution_count": 7,
   "id": "0ee24a9f",
   "metadata": {},
   "outputs": [
    {
     "data": {
      "text/html": [
       "<div>\n",
       "<style scoped>\n",
       "    .dataframe tbody tr th:only-of-type {\n",
       "        vertical-align: middle;\n",
       "    }\n",
       "\n",
       "    .dataframe tbody tr th {\n",
       "        vertical-align: top;\n",
       "    }\n",
       "\n",
       "    .dataframe thead th {\n",
       "        text-align: right;\n",
       "    }\n",
       "</style>\n",
       "<table border=\"1\" class=\"dataframe\">\n",
       "  <thead>\n",
       "    <tr style=\"text-align: right;\">\n",
       "      <th></th>\n",
       "      <th>GOOGL</th>\n",
       "      <th>META</th>\n",
       "    </tr>\n",
       "    <tr>\n",
       "      <th>Date</th>\n",
       "      <th></th>\n",
       "      <th></th>\n",
       "    </tr>\n",
       "  </thead>\n",
       "  <tbody>\n",
       "    <tr>\n",
       "      <th>2021-01-04</th>\n",
       "      <td>86.306503</td>\n",
       "      <td>268.654968</td>\n",
       "    </tr>\n",
       "    <tr>\n",
       "      <th>2021-01-05</th>\n",
       "      <td>87.002502</td>\n",
       "      <td>270.682800</td>\n",
       "    </tr>\n",
       "    <tr>\n",
       "      <th>2021-01-06</th>\n",
       "      <td>86.143997</td>\n",
       "      <td>263.030914</td>\n",
       "    </tr>\n",
       "    <tr>\n",
       "      <th>2021-01-07</th>\n",
       "      <td>88.717003</td>\n",
       "      <td>268.455170</td>\n",
       "    </tr>\n",
       "    <tr>\n",
       "      <th>2021-01-08</th>\n",
       "      <td>89.891502</td>\n",
       "      <td>267.286407</td>\n",
       "    </tr>\n",
       "  </tbody>\n",
       "</table>\n",
       "</div>"
      ],
      "text/plain": [
       "                GOOGL        META\n",
       "Date                             \n",
       "2021-01-04  86.306503  268.654968\n",
       "2021-01-05  87.002502  270.682800\n",
       "2021-01-06  86.143997  263.030914\n",
       "2021-01-07  88.717003  268.455170\n",
       "2021-01-08  89.891502  267.286407"
      ]
     },
     "execution_count": 7,
     "metadata": {},
     "output_type": "execute_result"
    }
   ],
   "source": [
    "test.head()"
   ]
  },
  {
   "cell_type": "code",
   "execution_count": 8,
   "id": "coral-campaign",
   "metadata": {},
   "outputs": [
    {
     "data": {
      "text/plain": [
       "Date\n",
       "2021-01-04         NaN\n",
       "2021-01-05    0.008032\n",
       "2021-01-06   -0.009917\n",
       "2021-01-07    0.029431\n",
       "2021-01-08    0.013152\n",
       "Name: GOOGL, dtype: float64"
      ]
     },
     "execution_count": 8,
     "metadata": {},
     "output_type": "execute_result"
    }
   ],
   "source": [
    "google = test['GOOGL'].pct_change().apply(lambda x: np.log(1+x))\n",
    "google.head()"
   ]
  },
  {
   "cell_type": "code",
   "execution_count": 9,
   "id": "ahead-missouri",
   "metadata": {},
   "outputs": [
    {
     "data": {
      "text/plain": [
       "0.008031928192988147"
      ]
     },
     "execution_count": 9,
     "metadata": {},
     "output_type": "execute_result"
    }
   ],
   "source": [
    "math.log(87.002502) - math.log(86.306503)"
   ]
  },
  {
   "cell_type": "code",
   "execution_count": 10,
   "id": "molecular-poster",
   "metadata": {},
   "outputs": [
    {
     "data": {
      "text/plain": [
       "0.0002326982203170642"
      ]
     },
     "execution_count": 10,
     "metadata": {},
     "output_type": "execute_result"
    }
   ],
   "source": [
    "var_goggle = google.var()\n",
    "var_goggle"
   ]
  },
  {
   "cell_type": "code",
   "execution_count": 11,
   "id": "instructional-mining",
   "metadata": {},
   "outputs": [
    {
     "data": {
      "text/plain": [
       "Date\n",
       "2021-01-04         NaN\n",
       "2021-01-05    0.007520\n",
       "2021-01-06   -0.028676\n",
       "2021-01-07    0.020412\n",
       "2021-01-08   -0.004363\n",
       "Name: META, dtype: float64"
      ]
     },
     "execution_count": 11,
     "metadata": {},
     "output_type": "execute_result"
    }
   ],
   "source": [
    "fb = test['META'].pct_change().apply(lambda x: np.log(1+x))\n",
    "fb.head()"
   ]
  },
  {
   "cell_type": "code",
   "execution_count": 12,
   "id": "dirty-bleeding",
   "metadata": {},
   "outputs": [
    {
     "data": {
      "text/plain": [
       "0.0003456657909360007"
      ]
     },
     "execution_count": 12,
     "metadata": {},
     "output_type": "execute_result"
    }
   ],
   "source": [
    "var_fb = fb.var()\n",
    "var_fb"
   ]
  },
  {
   "cell_type": "code",
   "execution_count": 13,
   "id": "olive-desire",
   "metadata": {},
   "outputs": [
    {
     "data": {
      "text/plain": [
       "0.29396674596627453"
      ]
     },
     "execution_count": 13,
     "metadata": {},
     "output_type": "execute_result"
    }
   ],
   "source": [
    "fb_vol = np.sqrt(var_fb * 250)\n",
    "fb_vol"
   ]
  },
  {
   "cell_type": "code",
   "execution_count": 14,
   "id": "legitimate-arkansas",
   "metadata": {
    "scrolled": true
   },
   "outputs": [
    {
     "data": {
      "text/plain": [
       "<AxesSubplot:>"
      ]
     },
     "execution_count": 14,
     "metadata": {},
     "output_type": "execute_result"
    },
    {
     "data": {
      "image/png": "[encoded data removed]",
      "text/plain": [
       "<Figure size 432x288 with 1 Axes>"
      ]
     },
     "metadata": {
      "needs_background": "light"
     },
     "output_type": "display_data"
    }
   ],
   "source": [
    "test.pct_change().apply(lambda x: np.log(1+x)).std().apply(lambda x: x*np.sqrt(250)).plot(kind='bar')"
   ]
  },
  {
   "cell_type": "code",
   "execution_count": 15,
   "id": "annual-payroll",
   "metadata": {},
   "outputs": [
    {
     "data": {
      "text/html": [
       "<div>\n",
       "<style scoped>\n",
       "    .dataframe tbody tr th:only-of-type {\n",
       "        vertical-align: middle;\n",
       "    }\n",
       "\n",
       "    .dataframe tbody tr th {\n",
       "        vertical-align: top;\n",
       "    }\n",
       "\n",
       "    .dataframe thead th {\n",
       "        text-align: right;\n",
       "    }\n",
       "</style>\n",
       "<table border=\"1\" class=\"dataframe\">\n",
       "  <thead>\n",
       "    <tr style=\"text-align: right;\">\n",
       "      <th></th>\n",
       "      <th>GOOGL</th>\n",
       "      <th>META</th>\n",
       "    </tr>\n",
       "    <tr>\n",
       "      <th>Date</th>\n",
       "      <th></th>\n",
       "      <th></th>\n",
       "    </tr>\n",
       "  </thead>\n",
       "  <tbody>\n",
       "    <tr>\n",
       "      <th>2021-01-04</th>\n",
       "      <td>NaN</td>\n",
       "      <td>NaN</td>\n",
       "    </tr>\n",
       "    <tr>\n",
       "      <th>2021-01-05</th>\n",
       "      <td>0.008032</td>\n",
       "      <td>0.007520</td>\n",
       "    </tr>\n",
       "    <tr>\n",
       "      <th>2021-01-06</th>\n",
       "      <td>-0.009917</td>\n",
       "      <td>-0.028676</td>\n",
       "    </tr>\n",
       "    <tr>\n",
       "      <th>2021-01-07</th>\n",
       "      <td>0.029431</td>\n",
       "      <td>0.020412</td>\n",
       "    </tr>\n",
       "    <tr>\n",
       "      <th>2021-01-08</th>\n",
       "      <td>0.013152</td>\n",
       "      <td>-0.004363</td>\n",
       "    </tr>\n",
       "  </tbody>\n",
       "</table>\n",
       "</div>"
      ],
      "text/plain": [
       "               GOOGL      META\n",
       "Date                          \n",
       "2021-01-04       NaN       NaN\n",
       "2021-01-05  0.008032  0.007520\n",
       "2021-01-06 -0.009917 -0.028676\n",
       "2021-01-07  0.029431  0.020412\n",
       "2021-01-08  0.013152 -0.004363"
      ]
     },
     "execution_count": 15,
     "metadata": {},
     "output_type": "execute_result"
    }
   ],
   "source": [
    "test1 = test.pct_change().apply(lambda x: np.log(1+x))\n",
    "test1.head()"
   ]
  },
  {
   "cell_type": "code",
   "execution_count": 16,
   "id": "aerial-missouri",
   "metadata": {},
   "outputs": [
    {
     "data": {
      "text/plain": [
       "0.00016531141861164997"
      ]
     },
     "execution_count": 16,
     "metadata": {},
     "output_type": "execute_result"
    }
   ],
   "source": [
    "test1['GOOGL'].cov(test1['META'])"
   ]
  },
  {
   "cell_type": "code",
   "execution_count": 17,
   "id": "computational-business",
   "metadata": {},
   "outputs": [
    {
     "data": {
      "text/plain": [
       "0.5828786139524442"
      ]
     },
     "execution_count": 17,
     "metadata": {},
     "output_type": "execute_result"
    }
   ],
   "source": [
    "test1['GOOGL'].corr(test1['META'])"
   ]
  },
  {
   "cell_type": "code",
   "execution_count": 18,
   "id": "spanish-albert",
   "metadata": {},
   "outputs": [
    {
     "data": {
      "text/html": [
       "<div>\n",
       "<style scoped>\n",
       "    .dataframe tbody tr th:only-of-type {\n",
       "        vertical-align: middle;\n",
       "    }\n",
       "\n",
       "    .dataframe tbody tr th {\n",
       "        vertical-align: top;\n",
       "    }\n",
       "\n",
       "    .dataframe thead th {\n",
       "        text-align: right;\n",
       "    }\n",
       "</style>\n",
       "<table border=\"1\" class=\"dataframe\">\n",
       "  <thead>\n",
       "    <tr style=\"text-align: right;\">\n",
       "      <th></th>\n",
       "      <th>GOOGL</th>\n",
       "      <th>META</th>\n",
       "    </tr>\n",
       "    <tr>\n",
       "      <th>Date</th>\n",
       "      <th></th>\n",
       "      <th></th>\n",
       "    </tr>\n",
       "  </thead>\n",
       "  <tbody>\n",
       "    <tr>\n",
       "      <th>2021-01-04</th>\n",
       "      <td>NaN</td>\n",
       "      <td>NaN</td>\n",
       "    </tr>\n",
       "    <tr>\n",
       "      <th>2021-01-05</th>\n",
       "      <td>0.008032</td>\n",
       "      <td>0.007520</td>\n",
       "    </tr>\n",
       "    <tr>\n",
       "      <th>2021-01-06</th>\n",
       "      <td>-0.009917</td>\n",
       "      <td>-0.028676</td>\n",
       "    </tr>\n",
       "    <tr>\n",
       "      <th>2021-01-07</th>\n",
       "      <td>0.029431</td>\n",
       "      <td>0.020412</td>\n",
       "    </tr>\n",
       "    <tr>\n",
       "      <th>2021-01-08</th>\n",
       "      <td>0.013152</td>\n",
       "      <td>-0.004363</td>\n",
       "    </tr>\n",
       "  </tbody>\n",
       "</table>\n",
       "</div>"
      ],
      "text/plain": [
       "               GOOGL      META\n",
       "Date                          \n",
       "2021-01-04       NaN       NaN\n",
       "2021-01-05  0.008032  0.007520\n",
       "2021-01-06 -0.009917 -0.028676\n",
       "2021-01-07  0.029431  0.020412\n",
       "2021-01-08  0.013152 -0.004363"
      ]
     },
     "execution_count": 18,
     "metadata": {},
     "output_type": "execute_result"
    }
   ],
   "source": [
    "test2 = test.pct_change().apply(lambda x: np.log(1+x))\n",
    "test2.head()"
   ]
  },
  {
   "cell_type": "code",
   "execution_count": 19,
   "id": "likely-johns",
   "metadata": {},
   "outputs": [
    {
     "data": {
      "text/plain": [
       "GOOGL    0.002108\n",
       "META     0.000989\n",
       "dtype: float64"
      ]
     },
     "execution_count": 19,
     "metadata": {},
     "output_type": "execute_result"
    }
   ],
   "source": [
    "w = [0.2, 0.8]\n",
    "e_r_ind = test2.mean()\n",
    "e_r_ind"
   ]
  },
  {
   "cell_type": "code",
   "execution_count": 20,
   "id": "exotic-mitchell",
   "metadata": {},
   "outputs": [
    {
     "data": {
      "text/plain": [
       "0.0012126966476177228"
      ]
     },
     "execution_count": 20,
     "metadata": {},
     "output_type": "execute_result"
    }
   ],
   "source": [
    "e_r = (e_r_ind*w).sum()\n",
    "e_r"
   ]
  },
  {
   "cell_type": "code",
   "execution_count": 21,
   "id": "attended-click",
   "metadata": {},
   "outputs": [
    {
     "name": "stdout",
     "output_type": "stream",
     "text": [
      "[*********************100%%**********************]  4 of 4 completed\n"
     ]
    },
    {
     "data": {
      "text/html": [
       "<div>\n",
       "<style scoped>\n",
       "    .dataframe tbody tr th:only-of-type {\n",
       "        vertical-align: middle;\n",
       "    }\n",
       "\n",
       "    .dataframe tbody tr th {\n",
       "        vertical-align: top;\n",
       "    }\n",
       "\n",
       "    .dataframe thead tr th {\n",
       "        text-align: left;\n",
       "    }\n",
       "\n",
       "    .dataframe thead tr:last-of-type th {\n",
       "        text-align: right;\n",
       "    }\n",
       "</style>\n",
       "<table border=\"1\" class=\"dataframe\">\n",
       "  <thead>\n",
       "    <tr>\n",
       "      <th></th>\n",
       "      <th colspan=\"4\" halign=\"left\">Adj Close</th>\n",
       "      <th colspan=\"4\" halign=\"left\">Close</th>\n",
       "      <th colspan=\"2\" halign=\"left\">High</th>\n",
       "      <th>...</th>\n",
       "      <th colspan=\"2\" halign=\"left\">Low</th>\n",
       "      <th colspan=\"4\" halign=\"left\">Open</th>\n",
       "      <th colspan=\"4\" halign=\"left\">Volume</th>\n",
       "    </tr>\n",
       "    <tr>\n",
       "      <th></th>\n",
       "      <th>ICICIBANK.NS</th>\n",
       "      <th>INFY.NS</th>\n",
       "      <th>TATAMOTORS.NS</th>\n",
       "      <th>TCS.NS</th>\n",
       "      <th>ICICIBANK.NS</th>\n",
       "      <th>INFY.NS</th>\n",
       "      <th>TATAMOTORS.NS</th>\n",
       "      <th>TCS.NS</th>\n",
       "      <th>ICICIBANK.NS</th>\n",
       "      <th>INFY.NS</th>\n",
       "      <th>...</th>\n",
       "      <th>TATAMOTORS.NS</th>\n",
       "      <th>TCS.NS</th>\n",
       "      <th>ICICIBANK.NS</th>\n",
       "      <th>INFY.NS</th>\n",
       "      <th>TATAMOTORS.NS</th>\n",
       "      <th>TCS.NS</th>\n",
       "      <th>ICICIBANK.NS</th>\n",
       "      <th>INFY.NS</th>\n",
       "      <th>TATAMOTORS.NS</th>\n",
       "      <th>TCS.NS</th>\n",
       "    </tr>\n",
       "    <tr>\n",
       "      <th>Date</th>\n",
       "      <th></th>\n",
       "      <th></th>\n",
       "      <th></th>\n",
       "      <th></th>\n",
       "      <th></th>\n",
       "      <th></th>\n",
       "      <th></th>\n",
       "      <th></th>\n",
       "      <th></th>\n",
       "      <th></th>\n",
       "      <th></th>\n",
       "      <th></th>\n",
       "      <th></th>\n",
       "      <th></th>\n",
       "      <th></th>\n",
       "      <th></th>\n",
       "      <th></th>\n",
       "      <th></th>\n",
       "      <th></th>\n",
       "      <th></th>\n",
       "      <th></th>\n",
       "    </tr>\n",
       "  </thead>\n",
       "  <tbody>\n",
       "    <tr>\n",
       "      <th>2016-01-01</th>\n",
       "      <td>226.929855</td>\n",
       "      <td>455.436249</td>\n",
       "      <td>400.489105</td>\n",
       "      <td>1016.664185</td>\n",
       "      <td>239.090912</td>\n",
       "      <td>552.625000</td>\n",
       "      <td>401.899994</td>\n",
       "      <td>1208.199951</td>\n",
       "      <td>239.636368</td>\n",
       "      <td>554.474976</td>\n",
       "      <td>...</td>\n",
       "      <td>373.000000</td>\n",
       "      <td>1206.125000</td>\n",
       "      <td>237.545456</td>\n",
       "      <td>550.000000</td>\n",
       "      <td>392.500000</td>\n",
       "      <td>1219.500000</td>\n",
       "      <td>5998096</td>\n",
       "      <td>1806550</td>\n",
       "      <td>4377363</td>\n",
       "      <td>712262</td>\n",
       "    </tr>\n",
       "    <tr>\n",
       "      <th>2016-01-04</th>\n",
       "      <td>220.501617</td>\n",
       "      <td>444.578247</td>\n",
       "      <td>375.726318</td>\n",
       "      <td>996.973633</td>\n",
       "      <td>232.318176</td>\n",
       "      <td>539.450012</td>\n",
       "      <td>377.049988</td>\n",
       "      <td>1184.800049</td>\n",
       "      <td>237.590912</td>\n",
       "      <td>551.224976</td>\n",
       "      <td>...</td>\n",
       "      <td>375.049988</td>\n",
       "      <td>1183.025024</td>\n",
       "      <td>237.272720</td>\n",
       "      <td>549.974976</td>\n",
       "      <td>400.000000</td>\n",
       "      <td>1205.074951</td>\n",
       "      <td>9435792</td>\n",
       "      <td>3975362</td>\n",
       "      <td>7822660</td>\n",
       "      <td>1870184</td>\n",
       "    </tr>\n",
       "    <tr>\n",
       "      <th>2016-01-05</th>\n",
       "      <td>221.493881</td>\n",
       "      <td>442.579712</td>\n",
       "      <td>373.135468</td>\n",
       "      <td>988.285706</td>\n",
       "      <td>233.363632</td>\n",
       "      <td>537.025024</td>\n",
       "      <td>374.450012</td>\n",
       "      <td>1174.474976</td>\n",
       "      <td>234.090912</td>\n",
       "      <td>542.750000</td>\n",
       "      <td>...</td>\n",
       "      <td>372.100006</td>\n",
       "      <td>1170.500000</td>\n",
       "      <td>232.954544</td>\n",
       "      <td>542.750000</td>\n",
       "      <td>381.049988</td>\n",
       "      <td>1192.500000</td>\n",
       "      <td>8966977</td>\n",
       "      <td>4949786</td>\n",
       "      <td>6901068</td>\n",
       "      <td>2678020</td>\n",
       "    </tr>\n",
       "    <tr>\n",
       "      <th>2016-01-06</th>\n",
       "      <td>215.799072</td>\n",
       "      <td>440.642914</td>\n",
       "      <td>364.615479</td>\n",
       "      <td>1002.022461</td>\n",
       "      <td>227.363632</td>\n",
       "      <td>534.674988</td>\n",
       "      <td>365.899994</td>\n",
       "      <td>1190.800049</td>\n",
       "      <td>233.409088</td>\n",
       "      <td>537.325012</td>\n",
       "      <td>...</td>\n",
       "      <td>364.600006</td>\n",
       "      <td>1175.099976</td>\n",
       "      <td>232.181824</td>\n",
       "      <td>537.325012</td>\n",
       "      <td>374.250000</td>\n",
       "      <td>1175.099976</td>\n",
       "      <td>17416181</td>\n",
       "      <td>5588328</td>\n",
       "      <td>7211230</td>\n",
       "      <td>2653228</td>\n",
       "    </tr>\n",
       "    <tr>\n",
       "      <th>2016-01-07</th>\n",
       "      <td>212.908478</td>\n",
       "      <td>432.999207</td>\n",
       "      <td>342.343933</td>\n",
       "      <td>997.667969</td>\n",
       "      <td>224.318176</td>\n",
       "      <td>525.400024</td>\n",
       "      <td>343.549988</td>\n",
       "      <td>1185.625000</td>\n",
       "      <td>225.181824</td>\n",
       "      <td>533.950012</td>\n",
       "      <td>...</td>\n",
       "      <td>338.100006</td>\n",
       "      <td>1180.000000</td>\n",
       "      <td>224.000000</td>\n",
       "      <td>530.025024</td>\n",
       "      <td>356.250000</td>\n",
       "      <td>1185.000000</td>\n",
       "      <td>18240712</td>\n",
       "      <td>5294088</td>\n",
       "      <td>11782307</td>\n",
       "      <td>3199580</td>\n",
       "    </tr>\n",
       "  </tbody>\n",
       "</table>\n",
       "<p>5 rows × 24 columns</p>\n",
       "</div>"
      ],
      "text/plain": [
       "              Adj Close                                               Close  \\\n",
       "           ICICIBANK.NS     INFY.NS TATAMOTORS.NS       TCS.NS ICICIBANK.NS   \n",
       "Date                                                                          \n",
       "2016-01-01   226.929855  455.436249    400.489105  1016.664185   239.090912   \n",
       "2016-01-04   220.501617  444.578247    375.726318   996.973633   232.318176   \n",
       "2016-01-05   221.493881  442.579712    373.135468   988.285706   233.363632   \n",
       "2016-01-06   215.799072  440.642914    364.615479  1002.022461   227.363632   \n",
       "2016-01-07   212.908478  432.999207    342.343933   997.667969   224.318176   \n",
       "\n",
       "                                                          High              \\\n",
       "               INFY.NS TATAMOTORS.NS       TCS.NS ICICIBANK.NS     INFY.NS   \n",
       "Date                                                                         \n",
       "2016-01-01  552.625000    401.899994  1208.199951   239.636368  554.474976   \n",
       "2016-01-04  539.450012    377.049988  1184.800049   237.590912  551.224976   \n",
       "2016-01-05  537.025024    374.450012  1174.474976   234.090912  542.750000   \n",
       "2016-01-06  534.674988    365.899994  1190.800049   233.409088  537.325012   \n",
       "2016-01-07  525.400024    343.549988  1185.625000   225.181824  533.950012   \n",
       "\n",
       "            ...           Low                      Open              \\\n",
       "            ... TATAMOTORS.NS       TCS.NS ICICIBANK.NS     INFY.NS   \n",
       "Date        ...                                                       \n",
       "2016-01-01  ...    373.000000  1206.125000   237.545456  550.000000   \n",
       "2016-01-04  ...    375.049988  1183.025024   237.272720  549.974976   \n",
       "2016-01-05  ...    372.100006  1170.500000   232.954544  542.750000   \n",
       "2016-01-06  ...    364.600006  1175.099976   232.181824  537.325012   \n",
       "2016-01-07  ...    338.100006  1180.000000   224.000000  530.025024   \n",
       "\n",
       "                                            Volume                         \\\n",
       "           TATAMOTORS.NS       TCS.NS ICICIBANK.NS  INFY.NS TATAMOTORS.NS   \n",
       "Date                                                                        \n",
       "2016-01-01    392.500000  1219.500000      5998096  1806550       4377363   \n",
       "2016-01-04    400.000000  1205.074951      9435792  3975362       7822660   \n",
       "2016-01-05    381.049988  1192.500000      8966977  4949786       6901068   \n",
       "2016-01-06    374.250000  1175.099976     17416181  5588328       7211230   \n",
       "2016-01-07    356.250000  1185.000000     18240712  5294088      11782307   \n",
       "\n",
       "                     \n",
       "             TCS.NS  \n",
       "Date                 \n",
       "2016-01-01   712262  \n",
       "2016-01-04  1870184  \n",
       "2016-01-05  2678020  \n",
       "2016-01-06  2653228  \n",
       "2016-01-07  3199580  \n",
       "\n",
       "[5 rows x 24 columns]"
      ]
     },
     "execution_count": 21,
     "metadata": {},
     "output_type": "execute_result"
    }
   ],
   "source": [
    "df = yf.download(['TCS.NS', 'INFY.NS', 'ICICIBANK.NS', 'TATAMOTORS.NS'],\n",
    "                 start=datetime(2016, 1, 1), end=datetime(2020,12,31))\n",
    "df.head()"
   ]
  },
  {
   "cell_type": "code",
   "execution_count": 22,
   "id": "approved-mauritius",
   "metadata": {},
   "outputs": [
    {
     "data": {
      "text/html": [
       "<div>\n",
       "<style scoped>\n",
       "    .dataframe tbody tr th:only-of-type {\n",
       "        vertical-align: middle;\n",
       "    }\n",
       "\n",
       "    .dataframe tbody tr th {\n",
       "        vertical-align: top;\n",
       "    }\n",
       "\n",
       "    .dataframe thead th {\n",
       "        text-align: right;\n",
       "    }\n",
       "</style>\n",
       "<table border=\"1\" class=\"dataframe\">\n",
       "  <thead>\n",
       "    <tr style=\"text-align: right;\">\n",
       "      <th></th>\n",
       "      <th>ICICIBANK.NS</th>\n",
       "      <th>INFY.NS</th>\n",
       "      <th>TATAMOTORS.NS</th>\n",
       "      <th>TCS.NS</th>\n",
       "    </tr>\n",
       "    <tr>\n",
       "      <th>Date</th>\n",
       "      <th></th>\n",
       "      <th></th>\n",
       "      <th></th>\n",
       "      <th></th>\n",
       "    </tr>\n",
       "  </thead>\n",
       "  <tbody>\n",
       "    <tr>\n",
       "      <th>2016-01-01</th>\n",
       "      <td>226.929855</td>\n",
       "      <td>455.436249</td>\n",
       "      <td>400.489105</td>\n",
       "      <td>1016.664185</td>\n",
       "    </tr>\n",
       "    <tr>\n",
       "      <th>2016-01-04</th>\n",
       "      <td>220.501617</td>\n",
       "      <td>444.578247</td>\n",
       "      <td>375.726318</td>\n",
       "      <td>996.973633</td>\n",
       "    </tr>\n",
       "    <tr>\n",
       "      <th>2016-01-05</th>\n",
       "      <td>221.493881</td>\n",
       "      <td>442.579712</td>\n",
       "      <td>373.135468</td>\n",
       "      <td>988.285706</td>\n",
       "    </tr>\n",
       "    <tr>\n",
       "      <th>2016-01-06</th>\n",
       "      <td>215.799072</td>\n",
       "      <td>440.642914</td>\n",
       "      <td>364.615479</td>\n",
       "      <td>1002.022461</td>\n",
       "    </tr>\n",
       "    <tr>\n",
       "      <th>2016-01-07</th>\n",
       "      <td>212.908478</td>\n",
       "      <td>432.999207</td>\n",
       "      <td>342.343933</td>\n",
       "      <td>997.667969</td>\n",
       "    </tr>\n",
       "  </tbody>\n",
       "</table>\n",
       "</div>"
      ],
      "text/plain": [
       "            ICICIBANK.NS     INFY.NS  TATAMOTORS.NS       TCS.NS\n",
       "Date                                                            \n",
       "2016-01-01    226.929855  455.436249     400.489105  1016.664185\n",
       "2016-01-04    220.501617  444.578247     375.726318   996.973633\n",
       "2016-01-05    221.493881  442.579712     373.135468   988.285706\n",
       "2016-01-06    215.799072  440.642914     364.615479  1002.022461\n",
       "2016-01-07    212.908478  432.999207     342.343933   997.667969"
      ]
     },
     "execution_count": 22,
     "metadata": {},
     "output_type": "execute_result"
    }
   ],
   "source": [
    "# Closing price\n",
    "df = df['Adj Close']\n",
    "df.head()"
   ]
  },
  {
   "cell_type": "code",
   "execution_count": 23,
   "id": "indonesian-invalid",
   "metadata": {},
   "outputs": [
    {
     "data": {
      "text/html": [
       "<div>\n",
       "<style scoped>\n",
       "    .dataframe tbody tr th:only-of-type {\n",
       "        vertical-align: middle;\n",
       "    }\n",
       "\n",
       "    .dataframe tbody tr th {\n",
       "        vertical-align: top;\n",
       "    }\n",
       "\n",
       "    .dataframe thead th {\n",
       "        text-align: right;\n",
       "    }\n",
       "</style>\n",
       "<table border=\"1\" class=\"dataframe\">\n",
       "  <thead>\n",
       "    <tr style=\"text-align: right;\">\n",
       "      <th></th>\n",
       "      <th>ICICIBANK.NS</th>\n",
       "      <th>INFY.NS</th>\n",
       "      <th>TATAMOTORS.NS</th>\n",
       "      <th>TCS.NS</th>\n",
       "    </tr>\n",
       "    <tr>\n",
       "      <th>Date</th>\n",
       "      <th></th>\n",
       "      <th></th>\n",
       "      <th></th>\n",
       "      <th></th>\n",
       "    </tr>\n",
       "  </thead>\n",
       "  <tbody>\n",
       "    <tr>\n",
       "      <th>2016-01-01</th>\n",
       "      <td>NaN</td>\n",
       "      <td>NaN</td>\n",
       "      <td>NaN</td>\n",
       "      <td>NaN</td>\n",
       "    </tr>\n",
       "    <tr>\n",
       "      <th>2016-01-04</th>\n",
       "      <td>-0.028736</td>\n",
       "      <td>-0.024130</td>\n",
       "      <td>-0.063826</td>\n",
       "      <td>-0.019558</td>\n",
       "    </tr>\n",
       "    <tr>\n",
       "      <th>2016-01-05</th>\n",
       "      <td>0.004490</td>\n",
       "      <td>-0.004505</td>\n",
       "      <td>-0.006919</td>\n",
       "      <td>-0.008752</td>\n",
       "    </tr>\n",
       "    <tr>\n",
       "      <th>2016-01-06</th>\n",
       "      <td>-0.026047</td>\n",
       "      <td>-0.004386</td>\n",
       "      <td>-0.023098</td>\n",
       "      <td>0.013804</td>\n",
       "    </tr>\n",
       "    <tr>\n",
       "      <th>2016-01-07</th>\n",
       "      <td>-0.013485</td>\n",
       "      <td>-0.017499</td>\n",
       "      <td>-0.063027</td>\n",
       "      <td>-0.004355</td>\n",
       "    </tr>\n",
       "  </tbody>\n",
       "</table>\n",
       "</div>"
      ],
      "text/plain": [
       "            ICICIBANK.NS   INFY.NS  TATAMOTORS.NS    TCS.NS\n",
       "Date                                                       \n",
       "2016-01-01           NaN       NaN            NaN       NaN\n",
       "2016-01-04     -0.028736 -0.024130      -0.063826 -0.019558\n",
       "2016-01-05      0.004490 -0.004505      -0.006919 -0.008752\n",
       "2016-01-06     -0.026047 -0.004386      -0.023098  0.013804\n",
       "2016-01-07     -0.013485 -0.017499      -0.063027 -0.004355"
      ]
     },
     "execution_count": 23,
     "metadata": {},
     "output_type": "execute_result"
    }
   ],
   "source": [
    "pct_change = df.pct_change().apply(lambda x: np.log(1+x))\n",
    "pct_change.head()"
   ]
  },
  {
   "cell_type": "code",
   "execution_count": 24,
   "id": "agricultural-content",
   "metadata": {},
   "outputs": [
    {
     "data": {
      "text/html": [
       "<div>\n",
       "<style scoped>\n",
       "    .dataframe tbody tr th:only-of-type {\n",
       "        vertical-align: middle;\n",
       "    }\n",
       "\n",
       "    .dataframe tbody tr th {\n",
       "        vertical-align: top;\n",
       "    }\n",
       "\n",
       "    .dataframe thead th {\n",
       "        text-align: right;\n",
       "    }\n",
       "</style>\n",
       "<table border=\"1\" class=\"dataframe\">\n",
       "  <thead>\n",
       "    <tr style=\"text-align: right;\">\n",
       "      <th></th>\n",
       "      <th>ICICIBANK.NS</th>\n",
       "      <th>INFY.NS</th>\n",
       "      <th>TATAMOTORS.NS</th>\n",
       "      <th>TCS.NS</th>\n",
       "    </tr>\n",
       "  </thead>\n",
       "  <tbody>\n",
       "    <tr>\n",
       "      <th>ICICIBANK.NS</th>\n",
       "      <td>0.000537</td>\n",
       "      <td>0.000099</td>\n",
       "      <td>0.000277</td>\n",
       "      <td>0.000078</td>\n",
       "    </tr>\n",
       "    <tr>\n",
       "      <th>INFY.NS</th>\n",
       "      <td>0.000099</td>\n",
       "      <td>0.000324</td>\n",
       "      <td>0.000116</td>\n",
       "      <td>0.000158</td>\n",
       "    </tr>\n",
       "    <tr>\n",
       "      <th>TATAMOTORS.NS</th>\n",
       "      <td>0.000277</td>\n",
       "      <td>0.000116</td>\n",
       "      <td>0.000856</td>\n",
       "      <td>0.000109</td>\n",
       "    </tr>\n",
       "    <tr>\n",
       "      <th>TCS.NS</th>\n",
       "      <td>0.000078</td>\n",
       "      <td>0.000158</td>\n",
       "      <td>0.000109</td>\n",
       "      <td>0.000266</td>\n",
       "    </tr>\n",
       "  </tbody>\n",
       "</table>\n",
       "</div>"
      ],
      "text/plain": [
       "               ICICIBANK.NS   INFY.NS  TATAMOTORS.NS    TCS.NS\n",
       "ICICIBANK.NS       0.000537  0.000099       0.000277  0.000078\n",
       "INFY.NS            0.000099  0.000324       0.000116  0.000158\n",
       "TATAMOTORS.NS      0.000277  0.000116       0.000856  0.000109\n",
       "TCS.NS             0.000078  0.000158       0.000109  0.000266"
      ]
     },
     "execution_count": 24,
     "metadata": {},
     "output_type": "execute_result"
    }
   ],
   "source": [
    "cov_matrix = pct_change.cov()\n",
    "cov_matrix"
   ]
  },
  {
   "cell_type": "code",
   "execution_count": 25,
   "id": "wrapped-monitoring",
   "metadata": {},
   "outputs": [
    {
     "data": {
      "text/html": [
       "<div>\n",
       "<style scoped>\n",
       "    .dataframe tbody tr th:only-of-type {\n",
       "        vertical-align: middle;\n",
       "    }\n",
       "\n",
       "    .dataframe tbody tr th {\n",
       "        vertical-align: top;\n",
       "    }\n",
       "\n",
       "    .dataframe thead th {\n",
       "        text-align: right;\n",
       "    }\n",
       "</style>\n",
       "<table border=\"1\" class=\"dataframe\">\n",
       "  <thead>\n",
       "    <tr style=\"text-align: right;\">\n",
       "      <th></th>\n",
       "      <th>ICICIBANK.NS</th>\n",
       "      <th>INFY.NS</th>\n",
       "      <th>TATAMOTORS.NS</th>\n",
       "      <th>TCS.NS</th>\n",
       "    </tr>\n",
       "  </thead>\n",
       "  <tbody>\n",
       "    <tr>\n",
       "      <th>ICICIBANK.NS</th>\n",
       "      <td>1.000000</td>\n",
       "      <td>0.236591</td>\n",
       "      <td>0.408279</td>\n",
       "      <td>0.207396</td>\n",
       "    </tr>\n",
       "    <tr>\n",
       "      <th>INFY.NS</th>\n",
       "      <td>0.236591</td>\n",
       "      <td>1.000000</td>\n",
       "      <td>0.221065</td>\n",
       "      <td>0.538957</td>\n",
       "    </tr>\n",
       "    <tr>\n",
       "      <th>TATAMOTORS.NS</th>\n",
       "      <td>0.408279</td>\n",
       "      <td>0.221065</td>\n",
       "      <td>1.000000</td>\n",
       "      <td>0.227493</td>\n",
       "    </tr>\n",
       "    <tr>\n",
       "      <th>TCS.NS</th>\n",
       "      <td>0.207396</td>\n",
       "      <td>0.538957</td>\n",
       "      <td>0.227493</td>\n",
       "      <td>1.000000</td>\n",
       "    </tr>\n",
       "  </tbody>\n",
       "</table>\n",
       "</div>"
      ],
      "text/plain": [
       "               ICICIBANK.NS   INFY.NS  TATAMOTORS.NS    TCS.NS\n",
       "ICICIBANK.NS       1.000000  0.236591       0.408279  0.207396\n",
       "INFY.NS            0.236591  1.000000       0.221065  0.538957\n",
       "TATAMOTORS.NS      0.408279  0.221065       1.000000  0.227493\n",
       "TCS.NS             0.207396  0.538957       0.227493  1.000000"
      ]
     },
     "execution_count": 25,
     "metadata": {},
     "output_type": "execute_result"
    }
   ],
   "source": [
    "# Correlation matrix\n",
    "cor_matrix = pct_change.corr()\n",
    "cor_matrix"
   ]
  },
  {
   "cell_type": "code",
   "execution_count": null,
   "id": "spatial-governor",
   "metadata": {},
   "outputs": [],
   "source": []
  },
  {
   "cell_type": "code",
   "execution_count": 26,
   "id": "complimentary-badge",
   "metadata": {},
   "outputs": [
    {
     "data": {
      "text/plain": [
       "0.00033552385077312193"
      ]
     },
     "execution_count": 26,
     "metadata": {},
     "output_type": "execute_result"
    }
   ],
   "source": [
    "w = {'TCS.NS': 0.1, 'INFY.NS': 0.2, 'ICICIBANK.NS': 0.5, 'TATAMOTORS.NS': 0.2}\n",
    "w = [0.1, 0.2, 0.5, 0.2]\n",
    "port_var = cov_matrix.mul(w, axis=0).mul(w, axis=1).sum().sum()\n",
    "port_var"
   ]
  },
  {
   "cell_type": "code",
   "execution_count": 27,
   "id": "toxic-owner",
   "metadata": {},
   "outputs": [
    {
     "data": {
      "text/plain": [
       "ICICIBANK.NS     0.249198\n",
       "INFY.NS          0.310713\n",
       "TATAMOTORS.NS   -0.154617\n",
       "TCS.NS           0.284466\n",
       "dtype: float64"
      ]
     },
     "execution_count": 27,
     "metadata": {},
     "output_type": "execute_result"
    }
   ],
   "source": [
    "# Yearly returns for individual companies\n",
    "ind_er = df.resample('Y').last().pct_change().mean()\n",
    "ind_er"
   ]
  },
  {
   "cell_type": "code",
   "execution_count": 28,
   "id": "tribal-little",
   "metadata": {},
   "outputs": [
    {
     "data": {
      "text/plain": [
       "0.0666472011871035"
      ]
     },
     "execution_count": 28,
     "metadata": {},
     "output_type": "execute_result"
    }
   ],
   "source": [
    "w = [0.1, 0.2, 0.5, 0.2]\n",
    "port_er = (w*ind_er).sum()\n",
    "port_er"
   ]
  },
  {
   "cell_type": "code",
   "execution_count": 29,
   "id": "controlling-verse",
   "metadata": {},
   "outputs": [
    {
     "data": {
      "text/plain": [
       "ICICIBANK.NS     0.366263\n",
       "INFY.NS          0.284739\n",
       "TATAMOTORS.NS    0.462685\n",
       "TCS.NS           0.258019\n",
       "dtype: float64"
      ]
     },
     "execution_count": 29,
     "metadata": {},
     "output_type": "execute_result"
    }
   ],
   "source": [
    "# Volatility is given by the annual standard deviation. We multiply by 250 because there are 250 trading days/year.\n",
    "ann_sd = df.pct_change().apply(lambda x: np.log(1+x)).std().apply(lambda x: x*np.sqrt(250))\n",
    "ann_sd"
   ]
  },
  {
   "cell_type": "code",
   "execution_count": 30,
   "id": "dying-geneva",
   "metadata": {},
   "outputs": [
    {
     "data": {
      "text/html": [
       "<div>\n",
       "<style scoped>\n",
       "    .dataframe tbody tr th:only-of-type {\n",
       "        vertical-align: middle;\n",
       "    }\n",
       "\n",
       "    .dataframe tbody tr th {\n",
       "        vertical-align: top;\n",
       "    }\n",
       "\n",
       "    .dataframe thead th {\n",
       "        text-align: right;\n",
       "    }\n",
       "</style>\n",
       "<table border=\"1\" class=\"dataframe\">\n",
       "  <thead>\n",
       "    <tr style=\"text-align: right;\">\n",
       "      <th></th>\n",
       "      <th>Returns</th>\n",
       "      <th>Volatility</th>\n",
       "    </tr>\n",
       "  </thead>\n",
       "  <tbody>\n",
       "    <tr>\n",
       "      <th>ICICIBANK.NS</th>\n",
       "      <td>0.249198</td>\n",
       "      <td>0.366263</td>\n",
       "    </tr>\n",
       "    <tr>\n",
       "      <th>INFY.NS</th>\n",
       "      <td>0.310713</td>\n",
       "      <td>0.284739</td>\n",
       "    </tr>\n",
       "    <tr>\n",
       "      <th>TATAMOTORS.NS</th>\n",
       "      <td>-0.154617</td>\n",
       "      <td>0.462685</td>\n",
       "    </tr>\n",
       "    <tr>\n",
       "      <th>TCS.NS</th>\n",
       "      <td>0.284466</td>\n",
       "      <td>0.258019</td>\n",
       "    </tr>\n",
       "  </tbody>\n",
       "</table>\n",
       "</div>"
      ],
      "text/plain": [
       "                Returns  Volatility\n",
       "ICICIBANK.NS   0.249198    0.366263\n",
       "INFY.NS        0.310713    0.284739\n",
       "TATAMOTORS.NS -0.154617    0.462685\n",
       "TCS.NS         0.284466    0.258019"
      ]
     },
     "execution_count": 30,
     "metadata": {},
     "output_type": "execute_result"
    }
   ],
   "source": [
    "assets = pd.concat([ind_er, ann_sd], axis=1) # Creating a table for visualising returns and volatility of assets\n",
    "assets.columns = ['Returns', 'Volatility']\n",
    "assets"
   ]
  },
  {
   "cell_type": "code",
   "execution_count": 31,
   "id": "cultural-maria",
   "metadata": {},
   "outputs": [],
   "source": [
    "p_ret = [] # Define an empty array for portfolio returns\n",
    "p_vol = [] # Define an empty array for portfolio volatility\n",
    "p_weights = [] # Define an empty array for asset weights\n",
    "num_assets = len(df.columns)\n",
    "num_portfolios = 10000"
   ]
  },
  {
   "cell_type": "code",
   "execution_count": 32,
   "id": "amended-digit",
   "metadata": {},
   "outputs": [],
   "source": [
    "for portfolio in range(num_portfolios):\n",
    "    weights = np.random.random(num_assets)\n",
    "    weights = weights/np.sum(weights)\n",
    "    p_weights.append(weights)\n",
    "    returns = np.dot(weights, ind_er) \n",
    "    p_ret.append(returns)\n",
    "    var = cov_matrix.mul(weights, axis=0).mul(weights, axis=1).sum().sum()# Portfolio Variance\n",
    "    sd = np.sqrt(var) \n",
    "    ann_sd = sd*np.sqrt(250) # Annualized standard deviation = volatility\n",
    "    p_vol.append(ann_sd)"
   ]
  },
  {
   "cell_type": "code",
   "execution_count": 33,
   "id": "serial-cooler",
   "metadata": {},
   "outputs": [
    {
     "data": {
      "text/html": [
       "<div>\n",
       "<style scoped>\n",
       "    .dataframe tbody tr th:only-of-type {\n",
       "        vertical-align: middle;\n",
       "    }\n",
       "\n",
       "    .dataframe tbody tr th {\n",
       "        vertical-align: top;\n",
       "    }\n",
       "\n",
       "    .dataframe thead th {\n",
       "        text-align: right;\n",
       "    }\n",
       "</style>\n",
       "<table border=\"1\" class=\"dataframe\">\n",
       "  <thead>\n",
       "    <tr style=\"text-align: right;\">\n",
       "      <th></th>\n",
       "      <th>Returns</th>\n",
       "      <th>Volatility</th>\n",
       "      <th>ICICIBANK.NS weight</th>\n",
       "      <th>INFY.NS weight</th>\n",
       "      <th>TATAMOTORS.NS weight</th>\n",
       "      <th>TCS.NS weight</th>\n",
       "    </tr>\n",
       "  </thead>\n",
       "  <tbody>\n",
       "    <tr>\n",
       "      <th>0</th>\n",
       "      <td>0.150707</td>\n",
       "      <td>0.241947</td>\n",
       "      <td>0.091720</td>\n",
       "      <td>0.238505</td>\n",
       "      <td>0.311523</td>\n",
       "      <td>0.358252</td>\n",
       "    </tr>\n",
       "    <tr>\n",
       "      <th>1</th>\n",
       "      <td>0.203205</td>\n",
       "      <td>0.229558</td>\n",
       "      <td>0.248718</td>\n",
       "      <td>0.316231</td>\n",
       "      <td>0.183996</td>\n",
       "      <td>0.251055</td>\n",
       "    </tr>\n",
       "    <tr>\n",
       "      <th>2</th>\n",
       "      <td>0.164507</td>\n",
       "      <td>0.255085</td>\n",
       "      <td>0.052523</td>\n",
       "      <td>0.566986</td>\n",
       "      <td>0.302877</td>\n",
       "      <td>0.077614</td>\n",
       "    </tr>\n",
       "    <tr>\n",
       "      <th>3</th>\n",
       "      <td>0.185065</td>\n",
       "      <td>0.237102</td>\n",
       "      <td>0.155194</td>\n",
       "      <td>0.427245</td>\n",
       "      <td>0.239457</td>\n",
       "      <td>0.178104</td>\n",
       "    </tr>\n",
       "    <tr>\n",
       "      <th>4</th>\n",
       "      <td>0.152300</td>\n",
       "      <td>0.250531</td>\n",
       "      <td>0.065923</td>\n",
       "      <td>0.446850</td>\n",
       "      <td>0.322421</td>\n",
       "      <td>0.164807</td>\n",
       "    </tr>\n",
       "  </tbody>\n",
       "</table>\n",
       "</div>"
      ],
      "text/plain": [
       "    Returns  Volatility  ICICIBANK.NS weight  INFY.NS weight  \\\n",
       "0  0.150707    0.241947             0.091720        0.238505   \n",
       "1  0.203205    0.229558             0.248718        0.316231   \n",
       "2  0.164507    0.255085             0.052523        0.566986   \n",
       "3  0.185065    0.237102             0.155194        0.427245   \n",
       "4  0.152300    0.250531             0.065923        0.446850   \n",
       "\n",
       "   TATAMOTORS.NS weight  TCS.NS weight  \n",
       "0              0.311523       0.358252  \n",
       "1              0.183996       0.251055  \n",
       "2              0.302877       0.077614  \n",
       "3              0.239457       0.178104  \n",
       "4              0.322421       0.164807  "
      ]
     },
     "execution_count": 33,
     "metadata": {},
     "output_type": "execute_result"
    }
   ],
   "source": [
    "data = {'Returns':p_ret, 'Volatility':p_vol}\n",
    "\n",
    "for counter, symbol in enumerate(df.columns.tolist()):\n",
    "    #print(counter, symbol)\n",
    "    data[symbol+' weight'] = [w[counter] for w in p_weights]\n",
    "portfolios  = pd.DataFrame(data)\n",
    "portfolios.head() # Dataframe of the 10000 portfolios created"
   ]
  },
  {
   "cell_type": "code",
   "execution_count": 34,
   "id": "fa73e274",
   "metadata": {},
   "outputs": [
    {
     "data": {
      "text/html": [
       "<div>\n",
       "<style scoped>\n",
       "    .dataframe tbody tr th:only-of-type {\n",
       "        vertical-align: middle;\n",
       "    }\n",
       "\n",
       "    .dataframe tbody tr th {\n",
       "        vertical-align: top;\n",
       "    }\n",
       "\n",
       "    .dataframe thead th {\n",
       "        text-align: right;\n",
       "    }\n",
       "</style>\n",
       "<table border=\"1\" class=\"dataframe\">\n",
       "  <thead>\n",
       "    <tr style=\"text-align: right;\">\n",
       "      <th></th>\n",
       "      <th>Returns</th>\n",
       "      <th>Volatility</th>\n",
       "      <th>ICICIBANK.NS weight</th>\n",
       "      <th>INFY.NS weight</th>\n",
       "      <th>TATAMOTORS.NS weight</th>\n",
       "      <th>TCS.NS weight</th>\n",
       "    </tr>\n",
       "  </thead>\n",
       "  <tbody>\n",
       "    <tr>\n",
       "      <th>0</th>\n",
       "      <td>0.150707</td>\n",
       "      <td>0.241947</td>\n",
       "      <td>0.091720</td>\n",
       "      <td>0.238505</td>\n",
       "      <td>0.311523</td>\n",
       "      <td>0.358252</td>\n",
       "    </tr>\n",
       "    <tr>\n",
       "      <th>1</th>\n",
       "      <td>0.203205</td>\n",
       "      <td>0.229558</td>\n",
       "      <td>0.248718</td>\n",
       "      <td>0.316231</td>\n",
       "      <td>0.183996</td>\n",
       "      <td>0.251055</td>\n",
       "    </tr>\n",
       "    <tr>\n",
       "      <th>2</th>\n",
       "      <td>0.164507</td>\n",
       "      <td>0.255085</td>\n",
       "      <td>0.052523</td>\n",
       "      <td>0.566986</td>\n",
       "      <td>0.302877</td>\n",
       "      <td>0.077614</td>\n",
       "    </tr>\n",
       "    <tr>\n",
       "      <th>3</th>\n",
       "      <td>0.185065</td>\n",
       "      <td>0.237102</td>\n",
       "      <td>0.155194</td>\n",
       "      <td>0.427245</td>\n",
       "      <td>0.239457</td>\n",
       "      <td>0.178104</td>\n",
       "    </tr>\n",
       "    <tr>\n",
       "      <th>4</th>\n",
       "      <td>0.152300</td>\n",
       "      <td>0.250531</td>\n",
       "      <td>0.065923</td>\n",
       "      <td>0.446850</td>\n",
       "      <td>0.322421</td>\n",
       "      <td>0.164807</td>\n",
       "    </tr>\n",
       "    <tr>\n",
       "      <th>...</th>\n",
       "      <td>...</td>\n",
       "      <td>...</td>\n",
       "      <td>...</td>\n",
       "      <td>...</td>\n",
       "      <td>...</td>\n",
       "      <td>...</td>\n",
       "    </tr>\n",
       "    <tr>\n",
       "      <th>9995</th>\n",
       "      <td>0.180222</td>\n",
       "      <td>0.243635</td>\n",
       "      <td>0.334150</td>\n",
       "      <td>0.228181</td>\n",
       "      <td>0.224214</td>\n",
       "      <td>0.213454</td>\n",
       "    </tr>\n",
       "    <tr>\n",
       "      <th>9996</th>\n",
       "      <td>0.283778</td>\n",
       "      <td>0.219408</td>\n",
       "      <td>0.194254</td>\n",
       "      <td>0.352675</td>\n",
       "      <td>0.007045</td>\n",
       "      <td>0.446026</td>\n",
       "    </tr>\n",
       "    <tr>\n",
       "      <th>9997</th>\n",
       "      <td>0.130376</td>\n",
       "      <td>0.262496</td>\n",
       "      <td>0.130212</td>\n",
       "      <td>0.422702</td>\n",
       "      <td>0.365744</td>\n",
       "      <td>0.081342</td>\n",
       "    </tr>\n",
       "    <tr>\n",
       "      <th>9998</th>\n",
       "      <td>0.259110</td>\n",
       "      <td>0.229322</td>\n",
       "      <td>0.205550</td>\n",
       "      <td>0.003579</td>\n",
       "      <td>0.041451</td>\n",
       "      <td>0.749420</td>\n",
       "    </tr>\n",
       "    <tr>\n",
       "      <th>9999</th>\n",
       "      <td>0.167408</td>\n",
       "      <td>0.244652</td>\n",
       "      <td>0.192089</td>\n",
       "      <td>0.395815</td>\n",
       "      <td>0.274829</td>\n",
       "      <td>0.137267</td>\n",
       "    </tr>\n",
       "  </tbody>\n",
       "</table>\n",
       "<p>10000 rows × 6 columns</p>\n",
       "</div>"
      ],
      "text/plain": [
       "       Returns  Volatility  ICICIBANK.NS weight  INFY.NS weight  \\\n",
       "0     0.150707    0.241947             0.091720        0.238505   \n",
       "1     0.203205    0.229558             0.248718        0.316231   \n",
       "2     0.164507    0.255085             0.052523        0.566986   \n",
       "3     0.185065    0.237102             0.155194        0.427245   \n",
       "4     0.152300    0.250531             0.065923        0.446850   \n",
       "...        ...         ...                  ...             ...   \n",
       "9995  0.180222    0.243635             0.334150        0.228181   \n",
       "9996  0.283778    0.219408             0.194254        0.352675   \n",
       "9997  0.130376    0.262496             0.130212        0.422702   \n",
       "9998  0.259110    0.229322             0.205550        0.003579   \n",
       "9999  0.167408    0.244652             0.192089        0.395815   \n",
       "\n",
       "      TATAMOTORS.NS weight  TCS.NS weight  \n",
       "0                 0.311523       0.358252  \n",
       "1                 0.183996       0.251055  \n",
       "2                 0.302877       0.077614  \n",
       "3                 0.239457       0.178104  \n",
       "4                 0.322421       0.164807  \n",
       "...                    ...            ...  \n",
       "9995              0.224214       0.213454  \n",
       "9996              0.007045       0.446026  \n",
       "9997              0.365744       0.081342  \n",
       "9998              0.041451       0.749420  \n",
       "9999              0.274829       0.137267  \n",
       "\n",
       "[10000 rows x 6 columns]"
      ]
     },
     "execution_count": 34,
     "metadata": {},
     "output_type": "execute_result"
    }
   ],
   "source": [
    "portfolios"
   ]
  },
  {
   "cell_type": "code",
   "execution_count": 35,
   "id": "mature-biotechnology",
   "metadata": {},
   "outputs": [
    {
     "data": {
      "text/plain": [
       "<AxesSubplot:xlabel='Volatility', ylabel='Returns'>"
      ]
     },
     "execution_count": 35,
     "metadata": {},
     "output_type": "execute_result"
    },
    {
     "data": {
      "image/png": "[encoded data removed]",
      "text/plain": [
       "<Figure size 720x720 with 1 Axes>"
      ]
     },
     "metadata": {
      "needs_background": "light"
     },
     "output_type": "display_data"
    }
   ],
   "source": [
    "# Plot efficient frontier\n",
    "portfolios.plot.scatter(x='Volatility', y='Returns', marker='o', s=10, alpha=0.3, grid=True, figsize=[10,10])"
   ]
  },
  {
   "cell_type": "code",
   "execution_count": 36,
   "id": "viral-following",
   "metadata": {},
   "outputs": [
    {
     "data": {
      "text/plain": [
       "Returns                 0.262338\n",
       "Volatility              0.217546\n",
       "ICICIBANK.NS weight     0.220596\n",
       "INFY.NS weight          0.262483\n",
       "TATAMOTORS.NS weight    0.048366\n",
       "TCS.NS weight           0.468555\n",
       "Name: 6500, dtype: float64"
      ]
     },
     "execution_count": 36,
     "metadata": {},
     "output_type": "execute_result"
    }
   ],
   "source": [
    "min_vol_port = portfolios.iloc[portfolios['Volatility'].idxmin()]\n",
    "# idxmin() gives us the minimum value in the column specified.                               \n",
    "min_vol_port"
   ]
  },
  {
   "cell_type": "code",
   "execution_count": 37,
   "id": "intended-observation",
   "metadata": {},
   "outputs": [
    {
     "data": {
      "text/plain": [
       "<matplotlib.collections.PathCollection at 0x171ac2dbb80>"
      ]
     },
     "execution_count": 37,
     "metadata": {},
     "output_type": "execute_result"
    },
    {
     "data": {
      "image/png": "[encoded data removed]",
      "text/plain": [
       "<Figure size 720x720 with 1 Axes>"
      ]
     },
     "metadata": {
      "needs_background": "light"
     },
     "output_type": "display_data"
    }
   ],
   "source": [
    "# plotting the minimum volatility portfolio\n",
    "plt.subplots(figsize=[10,10])\n",
    "plt.scatter(portfolios['Volatility'], portfolios['Returns'],marker='o', s=10, alpha=0.3)\n",
    "plt.scatter(min_vol_port[1], min_vol_port[0], color='r', marker='*', s=500)"
   ]
  },
  {
   "attachments": {
    "image.png": {
     "image/png": "[encoded data removed]"
    }
   },
   "cell_type": "markdown",
   "id": "periodic-valentine",
   "metadata": {},
   "source": [
    "The risk-free rate of return is the return on an investment with zero risk, meaning it’s the return investors could expect for taking no risk.\n",
    "\n",
    "The optimal risky portfolio is the one with the highest Sharpe ratio. The formula for this ratio is:\n",
    "\n",
    "Sharpe Ratio formula\n",
    "![image.png](attachment:image.png)"
   ]
  },
  {
   "cell_type": "code",
   "execution_count": 38,
   "id": "scenic-congress",
   "metadata": {},
   "outputs": [
    {
     "data": {
      "text/plain": [
       "Returns                 0.289296\n",
       "Volatility              0.222290\n",
       "ICICIBANK.NS weight     0.159455\n",
       "INFY.NS weight          0.423071\n",
       "TATAMOTORS.NS weight    0.001482\n",
       "TCS.NS weight           0.415992\n",
       "Name: 7404, dtype: float64"
      ]
     },
     "execution_count": 38,
     "metadata": {},
     "output_type": "execute_result"
    }
   ],
   "source": [
    "# Finding the optimal portfolio\n",
    "rf = 0.05 # risk free rate\n",
    "optimal_risky_port = portfolios.iloc[((portfolios['Returns']-rf)/portfolios['Volatility']).idxmax()]\n",
    "optimal_risky_port"
   ]
  },
  {
   "cell_type": "code",
   "execution_count": 39,
   "id": "systematic-automation",
   "metadata": {},
   "outputs": [
    {
     "data": {
      "text/plain": [
       "<matplotlib.collections.PathCollection at 0x171ac26fa00>"
      ]
     },
     "execution_count": 39,
     "metadata": {},
     "output_type": "execute_result"
    },
    {
     "data": {
      "image/png": "[encoded data removed]",
      "text/plain": [
       "<Figure size 720x720 with 1 Axes>"
      ]
     },
     "metadata": {
      "needs_background": "light"
     },
     "output_type": "display_data"
    }
   ],
   "source": [
    "# Plotting optimal portfolio\n",
    "plt.subplots(figsize=(10, 10))\n",
    "plt.scatter(portfolios['Volatility'], portfolios['Returns'],marker='o', s=10, alpha=0.3)\n",
    "plt.scatter(min_vol_port[1], min_vol_port[0], color='r', marker='*', s=500)\n",
    "plt.scatter(optimal_risky_port[1], optimal_risky_port[0], color='g', marker='*', s=500)"
   ]
  },
  {
   "cell_type": "code",
   "execution_count": 40,
   "id": "7f7cc2e0",
   "metadata": {},
   "outputs": [
    {
     "data": {
      "text/html": [
       "<div>\n",
       "<style scoped>\n",
       "    .dataframe tbody tr th:only-of-type {\n",
       "        vertical-align: middle;\n",
       "    }\n",
       "\n",
       "    .dataframe tbody tr th {\n",
       "        vertical-align: top;\n",
       "    }\n",
       "\n",
       "    .dataframe thead th {\n",
       "        text-align: right;\n",
       "    }\n",
       "</style>\n",
       "<table border=\"1\" class=\"dataframe\">\n",
       "  <thead>\n",
       "    <tr style=\"text-align: right;\">\n",
       "      <th></th>\n",
       "      <th>index</th>\n",
       "      <th>Returns</th>\n",
       "      <th>Volatility</th>\n",
       "      <th>ICICIBANK.NS weight</th>\n",
       "      <th>INFY.NS weight</th>\n",
       "      <th>TATAMOTORS.NS weight</th>\n",
       "      <th>TCS.NS weight</th>\n",
       "    </tr>\n",
       "  </thead>\n",
       "  <tbody>\n",
       "    <tr>\n",
       "      <th>0</th>\n",
       "      <td>0</td>\n",
       "      <td>0.150707</td>\n",
       "      <td>0.241947</td>\n",
       "      <td>0.091720</td>\n",
       "      <td>0.238505</td>\n",
       "      <td>0.311523</td>\n",
       "      <td>0.358252</td>\n",
       "    </tr>\n",
       "    <tr>\n",
       "      <th>1</th>\n",
       "      <td>1</td>\n",
       "      <td>0.203205</td>\n",
       "      <td>0.229558</td>\n",
       "      <td>0.248718</td>\n",
       "      <td>0.316231</td>\n",
       "      <td>0.183996</td>\n",
       "      <td>0.251055</td>\n",
       "    </tr>\n",
       "    <tr>\n",
       "      <th>2</th>\n",
       "      <td>3</td>\n",
       "      <td>0.185065</td>\n",
       "      <td>0.237102</td>\n",
       "      <td>0.155194</td>\n",
       "      <td>0.427245</td>\n",
       "      <td>0.239457</td>\n",
       "      <td>0.178104</td>\n",
       "    </tr>\n",
       "    <tr>\n",
       "      <th>3</th>\n",
       "      <td>5</td>\n",
       "      <td>0.195873</td>\n",
       "      <td>0.234051</td>\n",
       "      <td>0.305289</td>\n",
       "      <td>0.229817</td>\n",
       "      <td>0.190984</td>\n",
       "      <td>0.273910</td>\n",
       "    </tr>\n",
       "    <tr>\n",
       "      <th>4</th>\n",
       "      <td>8</td>\n",
       "      <td>0.169310</td>\n",
       "      <td>0.237910</td>\n",
       "      <td>0.233469</td>\n",
       "      <td>0.201084</td>\n",
       "      <td>0.255531</td>\n",
       "      <td>0.309916</td>\n",
       "    </tr>\n",
       "    <tr>\n",
       "      <th>...</th>\n",
       "      <td>...</td>\n",
       "      <td>...</td>\n",
       "      <td>...</td>\n",
       "      <td>...</td>\n",
       "      <td>...</td>\n",
       "      <td>...</td>\n",
       "      <td>...</td>\n",
       "    </tr>\n",
       "    <tr>\n",
       "      <th>5674</th>\n",
       "      <td>9994</td>\n",
       "      <td>0.263349</td>\n",
       "      <td>0.221075</td>\n",
       "      <td>0.201525</td>\n",
       "      <td>0.134576</td>\n",
       "      <td>0.039950</td>\n",
       "      <td>0.623949</td>\n",
       "    </tr>\n",
       "    <tr>\n",
       "      <th>5675</th>\n",
       "      <td>9995</td>\n",
       "      <td>0.180222</td>\n",
       "      <td>0.243635</td>\n",
       "      <td>0.334150</td>\n",
       "      <td>0.228181</td>\n",
       "      <td>0.224214</td>\n",
       "      <td>0.213454</td>\n",
       "    </tr>\n",
       "    <tr>\n",
       "      <th>5676</th>\n",
       "      <td>9996</td>\n",
       "      <td>0.283778</td>\n",
       "      <td>0.219408</td>\n",
       "      <td>0.194254</td>\n",
       "      <td>0.352675</td>\n",
       "      <td>0.007045</td>\n",
       "      <td>0.446026</td>\n",
       "    </tr>\n",
       "    <tr>\n",
       "      <th>5677</th>\n",
       "      <td>9998</td>\n",
       "      <td>0.259110</td>\n",
       "      <td>0.229322</td>\n",
       "      <td>0.205550</td>\n",
       "      <td>0.003579</td>\n",
       "      <td>0.041451</td>\n",
       "      <td>0.749420</td>\n",
       "    </tr>\n",
       "    <tr>\n",
       "      <th>5678</th>\n",
       "      <td>9999</td>\n",
       "      <td>0.167408</td>\n",
       "      <td>0.244652</td>\n",
       "      <td>0.192089</td>\n",
       "      <td>0.395815</td>\n",
       "      <td>0.274829</td>\n",
       "      <td>0.137267</td>\n",
       "    </tr>\n",
       "  </tbody>\n",
       "</table>\n",
       "<p>5679 rows × 7 columns</p>\n",
       "</div>"
      ],
      "text/plain": [
       "      index   Returns  Volatility  ICICIBANK.NS weight  INFY.NS weight  \\\n",
       "0         0  0.150707    0.241947             0.091720        0.238505   \n",
       "1         1  0.203205    0.229558             0.248718        0.316231   \n",
       "2         3  0.185065    0.237102             0.155194        0.427245   \n",
       "3         5  0.195873    0.234051             0.305289        0.229817   \n",
       "4         8  0.169310    0.237910             0.233469        0.201084   \n",
       "...     ...       ...         ...                  ...             ...   \n",
       "5674   9994  0.263349    0.221075             0.201525        0.134576   \n",
       "5675   9995  0.180222    0.243635             0.334150        0.228181   \n",
       "5676   9996  0.283778    0.219408             0.194254        0.352675   \n",
       "5677   9998  0.259110    0.229322             0.205550        0.003579   \n",
       "5678   9999  0.167408    0.244652             0.192089        0.395815   \n",
       "\n",
       "      TATAMOTORS.NS weight  TCS.NS weight  \n",
       "0                 0.311523       0.358252  \n",
       "1                 0.183996       0.251055  \n",
       "2                 0.239457       0.178104  \n",
       "3                 0.190984       0.273910  \n",
       "4                 0.255531       0.309916  \n",
       "...                    ...            ...  \n",
       "5674              0.039950       0.623949  \n",
       "5675              0.224214       0.213454  \n",
       "5676              0.007045       0.446026  \n",
       "5677              0.041451       0.749420  \n",
       "5678              0.274829       0.137267  \n",
       "\n",
       "[5679 rows x 7 columns]"
      ]
     },
     "execution_count": 40,
     "metadata": {},
     "output_type": "execute_result"
    }
   ],
   "source": [
    "const_portfolio = portfolios[portfolios[\"Volatility\"] < 0.25]\n",
    "const_portfolio.reset_index(inplace=True)\n",
    "const_portfolio"
   ]
  },
  {
   "cell_type": "code",
   "execution_count": 41,
   "id": "0cbeeec6",
   "metadata": {},
   "outputs": [
    {
     "data": {
      "text/plain": [
       "index                   337.000000\n",
       "Returns                   0.296061\n",
       "Volatility                0.246905\n",
       "ICICIBANK.NS weight       0.199232\n",
       "INFY.NS weight            0.734708\n",
       "TATAMOTORS.NS weight      0.001508\n",
       "TCS.NS weight             0.064552\n",
       "Name: 189, dtype: float64"
      ]
     },
     "execution_count": 41,
     "metadata": {},
     "output_type": "execute_result"
    }
   ],
   "source": [
    "const_portfolio.iloc[const_portfolio['Returns'].idxmax()]"
   ]
  },
  {
   "cell_type": "code",
   "execution_count": 42,
   "id": "6b8f0007",
   "metadata": {},
   "outputs": [
    {
     "data": {
      "text/html": [
       "<div>\n",
       "<style scoped>\n",
       "    .dataframe tbody tr th:only-of-type {\n",
       "        vertical-align: middle;\n",
       "    }\n",
       "\n",
       "    .dataframe tbody tr th {\n",
       "        vertical-align: top;\n",
       "    }\n",
       "\n",
       "    .dataframe thead th {\n",
       "        text-align: right;\n",
       "    }\n",
       "</style>\n",
       "<table border=\"1\" class=\"dataframe\">\n",
       "  <thead>\n",
       "    <tr style=\"text-align: right;\">\n",
       "      <th></th>\n",
       "      <th>index</th>\n",
       "      <th>Returns</th>\n",
       "      <th>Volatility</th>\n",
       "      <th>ICICIBANK.NS weight</th>\n",
       "      <th>INFY.NS weight</th>\n",
       "      <th>TATAMOTORS.NS weight</th>\n",
       "      <th>TCS.NS weight</th>\n",
       "    </tr>\n",
       "  </thead>\n",
       "  <tbody>\n",
       "    <tr>\n",
       "      <th>0</th>\n",
       "      <td>9</td>\n",
       "      <td>0.275204</td>\n",
       "      <td>0.222043</td>\n",
       "      <td>0.333612</td>\n",
       "      <td>0.238887</td>\n",
       "      <td>0.008577</td>\n",
       "      <td>0.418924</td>\n",
       "    </tr>\n",
       "    <tr>\n",
       "      <th>1</th>\n",
       "      <td>12</td>\n",
       "      <td>0.255554</td>\n",
       "      <td>0.229010</td>\n",
       "      <td>0.074943</td>\n",
       "      <td>0.533934</td>\n",
       "      <td>0.091744</td>\n",
       "      <td>0.299379</td>\n",
       "    </tr>\n",
       "    <tr>\n",
       "      <th>2</th>\n",
       "      <td>14</td>\n",
       "      <td>0.286588</td>\n",
       "      <td>0.225585</td>\n",
       "      <td>0.139644</td>\n",
       "      <td>0.498900</td>\n",
       "      <td>0.013773</td>\n",
       "      <td>0.347682</td>\n",
       "    </tr>\n",
       "    <tr>\n",
       "      <th>3</th>\n",
       "      <td>29</td>\n",
       "      <td>0.271313</td>\n",
       "      <td>0.226722</td>\n",
       "      <td>0.308490</td>\n",
       "      <td>0.438334</td>\n",
       "      <td>0.031379</td>\n",
       "      <td>0.221796</td>\n",
       "    </tr>\n",
       "    <tr>\n",
       "      <th>4</th>\n",
       "      <td>41</td>\n",
       "      <td>0.263200</td>\n",
       "      <td>0.218090</td>\n",
       "      <td>0.164107</td>\n",
       "      <td>0.303480</td>\n",
       "      <td>0.053393</td>\n",
       "      <td>0.479020</td>\n",
       "    </tr>\n",
       "    <tr>\n",
       "      <th>...</th>\n",
       "      <td>...</td>\n",
       "      <td>...</td>\n",
       "      <td>...</td>\n",
       "      <td>...</td>\n",
       "      <td>...</td>\n",
       "      <td>...</td>\n",
       "      <td>...</td>\n",
       "    </tr>\n",
       "    <tr>\n",
       "      <th>1222</th>\n",
       "      <td>9979</td>\n",
       "      <td>0.275052</td>\n",
       "      <td>0.224586</td>\n",
       "      <td>0.241518</td>\n",
       "      <td>0.475240</td>\n",
       "      <td>0.030449</td>\n",
       "      <td>0.252794</td>\n",
       "    </tr>\n",
       "    <tr>\n",
       "      <th>1223</th>\n",
       "      <td>9983</td>\n",
       "      <td>0.280063</td>\n",
       "      <td>0.228318</td>\n",
       "      <td>0.234557</td>\n",
       "      <td>0.533675</td>\n",
       "      <td>0.023088</td>\n",
       "      <td>0.208680</td>\n",
       "    </tr>\n",
       "    <tr>\n",
       "      <th>1224</th>\n",
       "      <td>9994</td>\n",
       "      <td>0.263349</td>\n",
       "      <td>0.221075</td>\n",
       "      <td>0.201525</td>\n",
       "      <td>0.134576</td>\n",
       "      <td>0.039950</td>\n",
       "      <td>0.623949</td>\n",
       "    </tr>\n",
       "    <tr>\n",
       "      <th>1225</th>\n",
       "      <td>9996</td>\n",
       "      <td>0.283778</td>\n",
       "      <td>0.219408</td>\n",
       "      <td>0.194254</td>\n",
       "      <td>0.352675</td>\n",
       "      <td>0.007045</td>\n",
       "      <td>0.446026</td>\n",
       "    </tr>\n",
       "    <tr>\n",
       "      <th>1226</th>\n",
       "      <td>9998</td>\n",
       "      <td>0.259110</td>\n",
       "      <td>0.229322</td>\n",
       "      <td>0.205550</td>\n",
       "      <td>0.003579</td>\n",
       "      <td>0.041451</td>\n",
       "      <td>0.749420</td>\n",
       "    </tr>\n",
       "  </tbody>\n",
       "</table>\n",
       "<p>1227 rows × 7 columns</p>\n",
       "</div>"
      ],
      "text/plain": [
       "      index   Returns  Volatility  ICICIBANK.NS weight  INFY.NS weight  \\\n",
       "0         9  0.275204    0.222043             0.333612        0.238887   \n",
       "1        12  0.255554    0.229010             0.074943        0.533934   \n",
       "2        14  0.286588    0.225585             0.139644        0.498900   \n",
       "3        29  0.271313    0.226722             0.308490        0.438334   \n",
       "4        41  0.263200    0.218090             0.164107        0.303480   \n",
       "...     ...       ...         ...                  ...             ...   \n",
       "1222   9979  0.275052    0.224586             0.241518        0.475240   \n",
       "1223   9983  0.280063    0.228318             0.234557        0.533675   \n",
       "1224   9994  0.263349    0.221075             0.201525        0.134576   \n",
       "1225   9996  0.283778    0.219408             0.194254        0.352675   \n",
       "1226   9998  0.259110    0.229322             0.205550        0.003579   \n",
       "\n",
       "      TATAMOTORS.NS weight  TCS.NS weight  \n",
       "0                 0.008577       0.418924  \n",
       "1                 0.091744       0.299379  \n",
       "2                 0.013773       0.347682  \n",
       "3                 0.031379       0.221796  \n",
       "4                 0.053393       0.479020  \n",
       "...                    ...            ...  \n",
       "1222              0.030449       0.252794  \n",
       "1223              0.023088       0.208680  \n",
       "1224              0.039950       0.623949  \n",
       "1225              0.007045       0.446026  \n",
       "1226              0.041451       0.749420  \n",
       "\n",
       "[1227 rows x 7 columns]"
      ]
     },
     "execution_count": 42,
     "metadata": {},
     "output_type": "execute_result"
    }
   ],
   "source": [
    "const_portfolio = portfolios[portfolios[\"Returns\"] > 0.25]\n",
    "const_portfolio.reset_index(inplace=True)\n",
    "const_portfolio"
   ]
  },
  {
   "cell_type": "code",
   "execution_count": 43,
   "id": "46512c39",
   "metadata": {},
   "outputs": [
    {
     "data": {
      "text/plain": [
       "index                   6500.000000\n",
       "Returns                    0.262338\n",
       "Volatility                 0.217546\n",
       "ICICIBANK.NS weight        0.220596\n",
       "INFY.NS weight             0.262483\n",
       "TATAMOTORS.NS weight       0.048366\n",
       "TCS.NS weight              0.468555\n",
       "Name: 809, dtype: float64"
      ]
     },
     "execution_count": 43,
     "metadata": {},
     "output_type": "execute_result"
    }
   ],
   "source": [
    "const_portfolio.iloc[const_portfolio['Volatility'].idxmin()]"
   ]
  }
 ],
 "metadata": {
  "kernelspec": {
   "display_name": "Python 3",
   "language": "python",
   "name": "python3"
  },
  "language_info": {
   "codemirror_mode": {
    "name": "ipython",
    "version": 3
   },
   "file_extension": ".py",
   "mimetype": "text/x-python",
   "name": "python",
   "nbconvert_exporter": "python",
   "pygments_lexer": "ipython3",
   "version": "3.8.10"
  }
 },
 "nbformat": 4,
 "nbformat_minor": 5
}
